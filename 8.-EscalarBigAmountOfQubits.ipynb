{
 "cells": [
  {
   "cell_type": "markdown",
   "id": "f86ffb0b",
   "metadata": {},
   "source": [
    "## Escalabilidad de grandes cantidades de cúbits\n",
    "\n",
    "En la computación cuántica, el trabajo a escala de utilidad es crucial para el progreso en este campo. Este trabajo requiere cálculos a una escala mucho mayor, trabajando con circuitos que podrían usar más de 100 cúbits y más de 1000 puertas. Este ejemplo demuestra cómo se puede realizar trabajo a escala de utilidad en las QPU de IBM® mediante la creación y el análisis de un estado de 100 cúbits GHZ. Utiliza el flujo de trabajo de patrones Qiskit y finaliza midiendo el valor esperado ⟨Z0 Zi⟩ para cada qubit. \n",
    "\n",
    "https://quantum.cloud.ibm.com/docs/es/tutorials/hello-world"
   ]
  },
  {
   "cell_type": "markdown",
   "id": "4fde089e",
   "metadata": {},
   "source": [
    "### 1.- Mapeo del problema\n",
    "\n",
    "Escriba una función que devuelva un QuantumCircuit que prepare un estado de n qubits GHZ\n",
    "(esencialmente, un estado de Bell extendido). \n",
    "\n",
    "Luego, use esa función para preparar un estado de 100 qubits GHZ y recopilar los observables \n",
    "que se medirán."
   ]
  },
  {
   "cell_type": "code",
   "execution_count": 1,
   "id": "1ba76af9",
   "metadata": {},
   "outputs": [],
   "source": [
    "\n",
    "from qiskit import QuantumCircuit\n",
    " \n",
    " \n",
    "def get_qc_for_n_qubit_GHZ_state(n: int) -> QuantumCircuit:\n",
    "    \"\"\"This function will create a qiskit.QuantumCircuit (qc) for an n-qubit GHZ state.\n",
    " \n",
    "    Args:\n",
    "        n (int): Number of qubits in the n-qubit GHZ state\n",
    " \n",
    "    Returns:\n",
    "        QuantumCircuit: Quantum circuit that generate the n-qubit GHZ state, assuming all qubits start in the 0 state\n",
    "    \"\"\"\n",
    "    if isinstance(n, int) and n >= 2:\n",
    "        qc = QuantumCircuit(n)\n",
    "        qc.h(0)\n",
    "        for i in range(n - 1):\n",
    "            qc.cx(i, i + 1)\n",
    "    else:\n",
    "        raise Exception(\"n is not a valid input\")\n",
    "    return qc\n",
    " \n",
    " \n",
    "# Create a new circuit with two qubits (first argument) and two classical\n",
    "# bits (second argument)\n",
    "n = 100\n",
    "qc = get_qc_for_n_qubit_GHZ_state(n)"
   ]
  },
  {
   "cell_type": "code",
   "execution_count": null,
   "id": "4e105f32",
   "metadata": {},
   "outputs": [],
   "source": []
  }
 ],
 "metadata": {
  "kernelspec": {
   "display_name": "CondaCodingQiskitEnvironment",
   "language": "python",
   "name": "python3"
  },
  "language_info": {
   "codemirror_mode": {
    "name": "ipython",
    "version": 3
   },
   "file_extension": ".py",
   "mimetype": "text/x-python",
   "name": "python",
   "nbconvert_exporter": "python",
   "pygments_lexer": "ipython3",
   "version": "3.13.2"
  }
 },
 "nbformat": 4,
 "nbformat_minor": 5
}
