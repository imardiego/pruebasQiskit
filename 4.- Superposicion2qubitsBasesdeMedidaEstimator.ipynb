{
 "cells": [
  {
   "cell_type": "markdown",
   "id": "2f450544",
   "metadata": {},
   "source": [
    "## Superposición 2 qubits medición en bases distintas y ejecución con estimator\n",
    "\n",
    "ESTADO DE BELL CON DOS QUIT Y EJECUCIÓN EN ESTIMATOR\n",
    "\n",
    "https://github.com/derek-wang-ibm/coding-with-qiskit/blob/main/episode-3-hello-world.ipynb\n",
    "https://www.youtube.com/watch?v=93-zLTppFZw&list=PLZIvznntA6uKiXmqwd9xEWAWK0CUhtImA&index=1&t=48s\n",
    "https://quantum.cloud.ibm.com/docs/es/tutorials/hello-world"
   ]
  },
  {
   "cell_type": "markdown",
   "id": "1be03b4e",
   "metadata": {},
   "source": [
    "En un programa cuántico, los circuitos cuánticos son el formato nativo para representar instrucciones cuánticas, y los operadores representan los observables que se van a medir. Al crear un circuito, normalmente:\n",
    "\n",
    "    - se crea un nuevo objeto QuantumCircuito \n",
    "    - y luego se le añaden instrucciones secuencialmente.\n",
    "\n",
    "La siguiente celda de código crea un circuito que produce un estado de Bell, que es un estado en el que dos qubits están completamente entrelazados entre sí."
   ]
  },
  {
   "cell_type": "markdown",
   "id": "a78b4467",
   "metadata": {},
   "source": [
    "**Paso 1: Asignar el problema a circuitos y operadores**"
   ]
  },
  {
   "cell_type": "code",
   "execution_count": 1,
   "id": "9ba57c1f",
   "metadata": {},
   "outputs": [
    {
     "data": {
      "image/png": "[encoded data removed]",
      "text/plain": [
       "<Figure size 287.294x200.667 with 1 Axes>"
      ]
     },
     "execution_count": 1,
     "metadata": {},
     "output_type": "execute_result"
    }
   ],
   "source": [
    "from qiskit import QuantumCircuit\n",
    "\n",
    "qc = QuantumCircuit(2)\n",
    "\n",
    "qc.h(0)\n",
    "qc.cx(0, 1)\n",
    "\n",
    "qc.draw(output='mpl')\n",
    "# No he ejecutado el circuito, pero si lo hiciera, obtendría un estado de Bell \n",
    "# entre los dos qubits."
   ]
  },
  {
   "cell_type": "code",
   "execution_count": 2,
   "id": "879d2214",
   "metadata": {},
   "outputs": [],
   "source": [
    "from qiskit.quantum_info import Pauli\n",
    "# Paulis para medir correlaciones entre qubits, esto significa\n",
    "# que se pueden medir correlaciones entre los qubits en un estado de Bell.\n",
    "# Las correlaciones significan que si se mide un qubit, el otro qubit\n",
    "# tendrá un valor correlacionado con el primero, incluso si están separados\n",
    "# por una gran distancia. Esto es lo que se conoce como entrelazamiento cuántico.\n",
    "# Los estados de Bell son un ejemplo de entrelazamiento cuántico.\n",
    "\n",
    "# Pauli ZZ significa que se mide el primer qubit en la base Z y el segundo qubit en la base Z.\n",
    "ZZ = Pauli('ZZ')\n",
    "# Pauli ZI significa que se mide el primer qubit en la base Z y el segundo qubit en la base I \n",
    "# (identidad).\n",
    "ZI = Pauli('ZI')\n",
    "# Pauli IZ significa que se mide el primer qubit en la base I (identidad) y el segundo qubit \n",
    "# en la base Z.\n",
    "IZ = Pauli('IZ')\n",
    "# Pauli XX significa que se mide el primer qubit en la base X y el segundo qubit en la base X.\n",
    "XX = Pauli('XX')\n",
    "# Pauli IX significa que se mide el primer qubit en la base I (identidad) y el segundo qubit\n",
    "# en la base X.\n",
    "XI = Pauli('XI')\n",
    "# Pauli XI significa que se mide el primer qubit en la base X y el segundo qubit en la base \n",
    "# I (identidad).\n",
    "IX = Pauli('IX')\n",
    "\n",
    "# los observables son los que se van a medir en el circuito,\n",
    "# y se utilizan para calcular las correlaciones entre los qubits.\n",
    "observables = [ZZ, ZI, IZ, XX, XI, IX]"
   ]
  },
  {
   "cell_type": "markdown",
   "id": "b74d618b",
   "metadata": {},
   "source": [
    "**Paso 2: Optimizamos el circuito**\n",
    "\n",
    "Las computadoras cuánticas pueden producir resultados aleatorios, por lo que se suele recopilar una muestra de las salidas ejecutando el circuito varias veces. Se puede estimar el valor del observable utilizando la clase Estimator. Estimator es una de dos primitivas; la otra es Sampler, que permite obtener datos de una computadora cuántica. Estos objetos poseen un método run() que ejecuta la selección de circuitos, observables y parámetros (si corresponde), utilizando un bloque unificado de primitivas (PUB).\n",
    "\n",
    "Al ejecutar circuitos en un dispositivo, es importante optimizar el conjunto de instrucciones que contiene y minimizar su profundidad total (aproximadamente el número de instrucciones). Esto garantiza la obtención de los mejores resultados posibles al reducir los efectos de errores y ruido. Además, las instrucciones del circuito deben ajustarse a la Arquitectura del Conjunto de Instrucciones (ISA) del dispositivo backend y considerar las puertas base y la conectividad de cúbits del dispositivo.\n",
    "\n",
    "El siguiente código instancia un dispositivo real al que se le envía un trabajo y transforma el circuito y los observables para que coincidan con la ISA de ese backend. Requiere que ya haya guardado sus credenciales para poder utilizar la máquina física. \n",
    "\n",
    "**De momento todavía no lo hemos conseguido**\n",
    "\n",
    "https://quantum.cloud.ibm.com/docs/es/tutorials/hello-world\n"
   ]
  },
  {
   "cell_type": "code",
   "execution_count": 9,
   "id": "8d790f5c",
   "metadata": {},
   "outputs": [
    {
     "ename": "AccountNotFoundError",
     "evalue": "'Unable to find account.'",
     "output_type": "error",
     "traceback": [
      "\u001b[31m---------------------------------------------------------------------------\u001b[39m",
      "\u001b[31mAccountNotFoundError\u001b[39m                      Traceback (most recent call last)",
      "\u001b[36mCell\u001b[39m\u001b[36m \u001b[39m\u001b[32mIn[9]\u001b[39m\u001b[32m, line 3\u001b[39m\n\u001b[32m      1\u001b[39m \u001b[38;5;28;01mfrom\u001b[39;00m\u001b[38;5;250m \u001b[39m\u001b[34;01mqiskit_ibm_runtime\u001b[39;00m\u001b[38;5;250m \u001b[39m\u001b[38;5;28;01mimport\u001b[39;00m QiskitRuntimeService\n\u001b[32m----> \u001b[39m\u001b[32m3\u001b[39m service = \u001b[43mQiskitRuntimeService\u001b[49m\u001b[43m(\u001b[49m\u001b[43m)\u001b[49m\n\u001b[32m      5\u001b[39m \u001b[38;5;66;03m# service.least_busy() nos da el backend menos ocupado que está disponible para ejecutar el circuito.\u001b[39;00m\n\u001b[32m      6\u001b[39m \u001b[38;5;66;03m# simulator=False significa que no queremos un simulador, sino un backend real.\u001b[39;00m\n\u001b[32m      7\u001b[39m \u001b[38;5;66;03m# operational=True significa que queremos un backend que esté operativo y no en mantenimiento.\u001b[39;00m\n\u001b[32m      8\u001b[39m \u001b[38;5;66;03m# Esto es útil para ejecutar circuitos en un backend real y obtener resultados reales.\u001b[39;00m\n\u001b[32m      9\u001b[39m \u001b[38;5;28;01mfrom\u001b[39;00m\u001b[38;5;250m \u001b[39m\u001b[34;01mqiskit_ibm_runtime\u001b[39;00m\u001b[38;5;250m \u001b[39m\u001b[38;5;28;01mimport\u001b[39;00m generate_preset_pass_manager\n",
      "\u001b[36mFile \u001b[39m\u001b[32m~/miniconda3/envs/CondaCodingQiskitEnvironment/lib/python3.13/site-packages/qiskit_ibm_runtime/qiskit_runtime_service.py:125\u001b[39m, in \u001b[36mQiskitRuntimeService.__init__\u001b[39m\u001b[34m(self, channel, token, url, filename, name, instance, proxies, verify, private_endpoint, url_resolver)\u001b[39m\n\u001b[32m     78\u001b[39m \u001b[38;5;250m\u001b[39m\u001b[33;03m\"\"\"QiskitRuntimeService constructor\u001b[39;00m\n\u001b[32m     79\u001b[39m \n\u001b[32m     80\u001b[39m \u001b[33;03mAn account is selected in the following order:\u001b[39;00m\n\u001b[32m   (...)\u001b[39m\u001b[32m    121\u001b[39m \u001b[33;03m    IBMInputValueError: If an input is invalid.\u001b[39;00m\n\u001b[32m    122\u001b[39m \u001b[33;03m\"\"\"\u001b[39;00m\n\u001b[32m    123\u001b[39m \u001b[38;5;28msuper\u001b[39m().\u001b[34m__init__\u001b[39m()\n\u001b[32m--> \u001b[39m\u001b[32m125\u001b[39m \u001b[38;5;28mself\u001b[39m._account = \u001b[38;5;28;43mself\u001b[39;49m\u001b[43m.\u001b[49m\u001b[43m_discover_account\u001b[49m\u001b[43m(\u001b[49m\n\u001b[32m    126\u001b[39m \u001b[43m    \u001b[49m\u001b[43mtoken\u001b[49m\u001b[43m=\u001b[49m\u001b[43mtoken\u001b[49m\u001b[43m,\u001b[49m\n\u001b[32m    127\u001b[39m \u001b[43m    \u001b[49m\u001b[43murl\u001b[49m\u001b[43m=\u001b[49m\u001b[43murl\u001b[49m\u001b[43m,\u001b[49m\n\u001b[32m    128\u001b[39m \u001b[43m    \u001b[49m\u001b[43minstance\u001b[49m\u001b[43m=\u001b[49m\u001b[43minstance\u001b[49m\u001b[43m,\u001b[49m\n\u001b[32m    129\u001b[39m \u001b[43m    \u001b[49m\u001b[43mchannel\u001b[49m\u001b[43m=\u001b[49m\u001b[43mchannel\u001b[49m\u001b[43m,\u001b[49m\n\u001b[32m    130\u001b[39m \u001b[43m    \u001b[49m\u001b[43mfilename\u001b[49m\u001b[43m=\u001b[49m\u001b[43mfilename\u001b[49m\u001b[43m,\u001b[49m\n\u001b[32m    131\u001b[39m \u001b[43m    \u001b[49m\u001b[43mname\u001b[49m\u001b[43m=\u001b[49m\u001b[43mname\u001b[49m\u001b[43m,\u001b[49m\n\u001b[32m    132\u001b[39m \u001b[43m    \u001b[49m\u001b[43mproxies\u001b[49m\u001b[43m=\u001b[49m\u001b[43mProxyConfiguration\u001b[49m\u001b[43m(\u001b[49m\u001b[43m*\u001b[49m\u001b[43m*\u001b[49m\u001b[43mproxies\u001b[49m\u001b[43m)\u001b[49m\u001b[43m \u001b[49m\u001b[38;5;28;43;01mif\u001b[39;49;00m\u001b[43m \u001b[49m\u001b[43mproxies\u001b[49m\u001b[43m \u001b[49m\u001b[38;5;28;43;01melse\u001b[39;49;00m\u001b[43m \u001b[49m\u001b[38;5;28;43;01mNone\u001b[39;49;00m\u001b[43m,\u001b[49m\n\u001b[32m    133\u001b[39m \u001b[43m    \u001b[49m\u001b[43mverify\u001b[49m\u001b[43m=\u001b[49m\u001b[43mverify\u001b[49m\u001b[43m,\u001b[49m\n\u001b[32m    134\u001b[39m \u001b[43m\u001b[49m\u001b[43m)\u001b[49m\n\u001b[32m    136\u001b[39m \u001b[38;5;28;01mif\u001b[39;00m private_endpoint \u001b[38;5;129;01mis\u001b[39;00m \u001b[38;5;129;01mnot\u001b[39;00m \u001b[38;5;28;01mNone\u001b[39;00m:\n\u001b[32m    137\u001b[39m     \u001b[38;5;28mself\u001b[39m._account.private_endpoint = private_endpoint\n",
      "\u001b[36mFile \u001b[39m\u001b[32m~/miniconda3/envs/CondaCodingQiskitEnvironment/lib/python3.13/site-packages/qiskit_ibm_runtime/qiskit_runtime_service.py:229\u001b[39m, in \u001b[36mQiskitRuntimeService._discover_account\u001b[39m\u001b[34m(self, token, url, instance, channel, filename, name, proxies, verify)\u001b[39m\n\u001b[32m    227\u001b[39m \u001b[38;5;66;03m# channel is not defined yet, get it from the AccountManager\u001b[39;00m\n\u001b[32m    228\u001b[39m \u001b[38;5;28;01mif\u001b[39;00m account \u001b[38;5;129;01mis\u001b[39;00m \u001b[38;5;28;01mNone\u001b[39;00m:\n\u001b[32m--> \u001b[39m\u001b[32m229\u001b[39m     account = \u001b[43mAccountManager\u001b[49m\u001b[43m.\u001b[49m\u001b[43mget\u001b[49m\u001b[43m(\u001b[49m\u001b[43mfilename\u001b[49m\u001b[43m=\u001b[49m\u001b[43mfilename\u001b[49m\u001b[43m)\u001b[49m\n\u001b[32m    231\u001b[39m \u001b[38;5;28;01mif\u001b[39;00m instance:\n\u001b[32m    232\u001b[39m     account.instance = instance\n",
      "\u001b[36mFile \u001b[39m\u001b[32m~/miniconda3/envs/CondaCodingQiskitEnvironment/lib/python3.13/site-packages/qiskit_ibm_runtime/accounts/management.py:195\u001b[39m, in \u001b[36mAccountManager.get\u001b[39m\u001b[34m(cls, filename, name, channel)\u001b[39m\n\u001b[32m    192\u001b[39m     \u001b[38;5;28;01mif\u001b[39;00m account_name \u001b[38;5;129;01min\u001b[39;00m all_config:\n\u001b[32m    193\u001b[39m         \u001b[38;5;28;01mreturn\u001b[39;00m Account.from_saved_format(all_config[account_name])\n\u001b[32m--> \u001b[39m\u001b[32m195\u001b[39m \u001b[38;5;28;01mraise\u001b[39;00m AccountNotFoundError(\u001b[33m\"\u001b[39m\u001b[33mUnable to find account.\u001b[39m\u001b[33m\"\u001b[39m)\n",
      "\u001b[31mAccountNotFoundError\u001b[39m: 'Unable to find account.'"
     ]
    }
   ],
   "source": [
    "from qiskit_ibm_runtime import QiskitRuntimeService\n",
    " \n",
    "service = QiskitRuntimeService()\n",
    "\n",
    "# service.least_busy() nos da el backend menos ocupado que está disponible para ejecutar el circuito.\n",
    "# simulator=False significa que no queremos un simulador, sino un backend real.\n",
    "# operational=True significa que queremos un backend que esté operativo y no en mantenimiento.\n",
    "# Esto es útil para ejecutar circuitos en un backend real y obtener resultados reales.\n",
    "from qiskit_ibm_runtime import generate_preset_pass_manager\n",
    "\n",
    "backend = service.least_busy(simulator=False, operational=True)\n",
    " \n",
    "# generate_preset_pass_manager() crea un administrador de pasadas preestablecido para el backend seleccionado\n",
    "# esto significa que se aplicarán optimizaciones específicas para el backend seleccionado.\n",
    "# optimization_level=1 significa que se aplicará un nivel de optimización bajo, lo que\n",
    "# significa que se aplicarán algunas optimizaciones, pero no todas.\n",
    "# Esto es útil para circuitos pequeños o medianos, ya que no queremos que las optimizaciones\n",
    "# tomen demasiado tiempo y queremos obtener resultados rápidamente.\n",
    "pm = generate_preset_pass_manager(backend=backend, optimization_level=1)\n",
    "isa_circuit = pm.run(qc)\n",
    "#isa_circuit es el circuito optimizado que se ha ejecutado en el backend seleccionado. \n",
    "isa_circuit.draw(\"mpl\", idle_wires=False)"
   ]
  },
  {
   "cell_type": "markdown",
   "id": "c96c973f",
   "metadata": {},
   "source": [
    "NO CONSIGUE CONECTARSE CON LA MÁQUINA REAL, DE MOMENTO NO TENEMOS CONEXIÓN."
   ]
  },
  {
   "cell_type": "markdown",
   "id": "835bac4a",
   "metadata": {},
   "source": [
    "**Primitivas**\n",
    "Una primitiva de estimador calcula los valores esperados de los observables con respecto a los estados generados por circuitos cuánticos. Los usuarios generalmente especifican una lista de circuitos, observables y, posiblemente, alguna configuración adicional, con la que el programa puede evaluar eficientemente los valores esperados y las varianzas.\n",
    "\n",
    "Una primitiva de muestreo calcula probabilidades o cuasiprobabilidades de cadenas de bits de circuitos cuánticos. Las cuasiprobabilidades son similares a las probabilidades regulares, salvo que pueden incluir valores negativos, lo cual puede ocurrir al utilizar ciertas técnicas de mitigación de errores.\n",
    "\n",
    "En general, las primitivas permiten a un usuario avanzado escribir algoritmos cuánticos sin preocuparse por los detalles del hardware. Por lo tanto, tareas importantes, como la estimación de operadores, pueden gestionarse a un nivel inferior sin necesidad de intervención del usuario."
   ]
  },
  {
   "cell_type": "code",
   "execution_count": 4,
   "id": "3cf3ce28",
   "metadata": {},
   "outputs": [
    {
     "data": {
      "text/plain": [
       "EstimatorResult(values=array([ 1.        , -0.06835938, -0.06835938,  1.        ,  0.04492188,\n",
       "        0.04492188]), metadata=[{'shots': 1024, 'variance': 0.0, 'simulator_metadata': [{'time_taken': 0.006362291, 'num_bind_params': 1, 'parallel_state_update': 4, 'parallel_shots': 1, 'required_memory_mb': 0, 'input_qubit_map': [[1, 1], [0, 0]], 'method': 'stabilizer', 'device': 'CPU', 'num_qubits': 2, 'sample_measure_time': 0.000985166, 'active_input_qubits': [0, 1], 'num_clbits': 2, 'remapped_qubits': False, 'runtime_parameter_bind': False, 'max_memory_mb': 7909, 'noise': 'ideal', 'measure_sampling': True, 'batched_shots_optimization': False, 'fusion': {'enabled': False}}]}, {'shots': 1024, 'variance': 0.9953269958496094, 'simulator_metadata': [{'time_taken': 0.006362291, 'num_bind_params': 1, 'parallel_state_update': 4, 'parallel_shots': 1, 'required_memory_mb': 0, 'input_qubit_map': [[1, 1], [0, 0]], 'method': 'stabilizer', 'device': 'CPU', 'num_qubits': 2, 'sample_measure_time': 0.000985166, 'active_input_qubits': [0, 1], 'num_clbits': 2, 'remapped_qubits': False, 'runtime_parameter_bind': False, 'max_memory_mb': 7909, 'noise': 'ideal', 'measure_sampling': True, 'batched_shots_optimization': False, 'fusion': {'enabled': False}}]}, {'shots': 1024, 'variance': 0.9953269958496094, 'simulator_metadata': [{'time_taken': 0.006362291, 'num_bind_params': 1, 'parallel_state_update': 4, 'parallel_shots': 1, 'required_memory_mb': 0, 'input_qubit_map': [[1, 1], [0, 0]], 'method': 'stabilizer', 'device': 'CPU', 'num_qubits': 2, 'sample_measure_time': 0.000985166, 'active_input_qubits': [0, 1], 'num_clbits': 2, 'remapped_qubits': False, 'runtime_parameter_bind': False, 'max_memory_mb': 7909, 'noise': 'ideal', 'measure_sampling': True, 'batched_shots_optimization': False, 'fusion': {'enabled': False}}]}, {'shots': 1024, 'variance': 0.0, 'simulator_metadata': [{'time_taken': 0.001885958, 'num_bind_params': 1, 'parallel_state_update': 4, 'parallel_shots': 1, 'required_memory_mb': 0, 'input_qubit_map': [[1, 1], [0, 0]], 'method': 'stabilizer', 'device': 'CPU', 'num_qubits': 2, 'sample_measure_time': 0.000932656, 'active_input_qubits': [0, 1], 'num_clbits': 2, 'remapped_qubits': False, 'runtime_parameter_bind': False, 'max_memory_mb': 7909, 'noise': 'ideal', 'measure_sampling': True, 'batched_shots_optimization': False, 'fusion': {'enabled': False}}]}, {'shots': 1024, 'variance': 0.9979820251464844, 'simulator_metadata': [{'time_taken': 0.001885958, 'num_bind_params': 1, 'parallel_state_update': 4, 'parallel_shots': 1, 'required_memory_mb': 0, 'input_qubit_map': [[1, 1], [0, 0]], 'method': 'stabilizer', 'device': 'CPU', 'num_qubits': 2, 'sample_measure_time': 0.000932656, 'active_input_qubits': [0, 1], 'num_clbits': 2, 'remapped_qubits': False, 'runtime_parameter_bind': False, 'max_memory_mb': 7909, 'noise': 'ideal', 'measure_sampling': True, 'batched_shots_optimization': False, 'fusion': {'enabled': False}}]}, {'shots': 1024, 'variance': 0.9979820251464844, 'simulator_metadata': [{'time_taken': 0.001885958, 'num_bind_params': 1, 'parallel_state_update': 4, 'parallel_shots': 1, 'required_memory_mb': 0, 'input_qubit_map': [[1, 1], [0, 0]], 'method': 'stabilizer', 'device': 'CPU', 'num_qubits': 2, 'sample_measure_time': 0.000932656, 'active_input_qubits': [0, 1], 'num_clbits': 2, 'remapped_qubits': False, 'runtime_parameter_bind': False, 'max_memory_mb': 7909, 'noise': 'ideal', 'measure_sampling': True, 'batched_shots_optimization': False, 'fusion': {'enabled': False}}]}])"
      ]
     },
     "execution_count": 4,
     "metadata": {},
     "output_type": "execute_result"
    }
   ],
   "source": [
    "from qiskit_aer.primitives import Estimator\n",
    "# El Estimator es una clase que se utiliza para estimar los valores esperados de los observables en un circuito cuántico.\n",
    "# \n",
    "estimator = Estimator()\n",
    "\n",
    "job = estimator.run([qc] * len(observables), observables)\n",
    "# estimator.run ejecuta el circuito en el backend seleccionado y calcula los valores esperados de los observables.\n",
    "# job es un objeto que representa el trabajo que se ha enviado al backend para su ejecución.\n",
    "# Estimator de aer.primitives es una clase que simula la ejecución de circuitos cuánticos y calcula los valores esperados de los observables.\n",
    "\n",
    "job.result()"
   ]
  },
  {
   "cell_type": "markdown",
   "id": "d5f4e18d",
   "metadata": {},
   "source": [
    "**Paso 4: Análisis de resultados**\n",
    "\n",
    "El paso de análisis suele ser donde se posprocesan los resultados mediante, por ejemplo, la mitigación de errores de medición o la extrapolación de ruido cero (ZNE). Puede introducir estos resultados en otro flujo de trabajo para un análisis más profundo o preparar un gráfico de los valores clave y los datos. En general, este paso es específico para su problema. Para este ejemplo, grafique cada uno de los valores esperados medidos para nuestro circuito.\n",
    "\n",
    "Se accede a los valores esperados y las desviaciones estándar de los observables especificados en Estimator mediante los atributos PubResult.data.evs y PubResult.data.stds del resultado del trabajo. Para obtener los resultados de Sampler, utilice la función PubResult.data.meas.get_counts(), que devolverá un diccionario de mediciones en forma de cadenas de bits como claves y recuentos como sus valores correspondientes. Para obtener más información, consulte Introducción a Sampler."
   ]
  },
  {
   "cell_type": "code",
   "execution_count": 5,
   "id": "f20859e5",
   "metadata": {},
   "outputs": [
    {
     "data": {
      "image/png": "[encoded data removed]",
      "text/plain": [
       "<Figure size 640x480 with 1 Axes>"
      ]
     },
     "metadata": {},
     "output_type": "display_data"
    }
   ],
   "source": [
    "import matplotlib.pyplot as plt\n",
    "\n",
    "data = ['ZZ', 'ZI', 'IZ', 'XX', 'XI', 'IX']\n",
    "values = job.result().values\n",
    "\n",
    "plt.plot(data, values, '-o')\n",
    "plt.xlabel('Observables')\n",
    "plt.ylabel('Expectation value')\n",
    "plt.show()"
   ]
  },
  {
   "cell_type": "markdown",
   "id": "c1d82863",
   "metadata": {},
   "source": [
    "** Ejecución con un fake provider **\n",
    "\n",
    "Al ejecutar su programa cuántico en un dispositivo real, la carga de trabajo debe esperar en una cola antes de ejecutarse. Para ahorrar tiempo, puede usar el siguiente código para ejecutar esta pequeña carga de trabajo en fake_provider con el modo de prueba local de Qiskit Runtime. Tenga en cuenta que esto solo es posible para circuitos pequeños. "
   ]
  },
  {
   "cell_type": "code",
   "execution_count": 6,
   "id": "6c4d5512",
   "metadata": {},
   "outputs": [
    {
     "ename": "NameError",
     "evalue": "name 'generate_preset_pass_manager' is not defined",
     "output_type": "error",
     "traceback": [
      "\u001b[31m---------------------------------------------------------------------------\u001b[39m",
      "\u001b[31mNameError\u001b[39m                                 Traceback (most recent call last)",
      "\u001b[36mCell\u001b[39m\u001b[36m \u001b[39m\u001b[32mIn[6]\u001b[39m\u001b[32m, line 13\u001b[39m\n\u001b[32m      8\u001b[39m estimator = Estimator()\n\u001b[32m     10\u001b[39m \u001b[38;5;66;03m# Convert to an ISA circuit and layout-mapped observables.\u001b[39;00m\n\u001b[32m     11\u001b[39m \u001b[38;5;66;03m# Convertir a un circuito ISA significa que el circuito se ha optimizado para el backend seleccionado y se ha mapeado a los qubits del backend.\u001b[39;00m\n\u001b[32m---> \u001b[39m\u001b[32m13\u001b[39m pm = \u001b[43mgenerate_preset_pass_manager\u001b[49m(backend=backend, optimization_level=\u001b[32m1\u001b[39m)\n\u001b[32m     14\u001b[39m \u001b[38;5;66;03m# generate_preset_pass_manager() crea un administrador de pasadas preestablecido para el backend seleccionado\u001b[39;00m\n\u001b[32m     15\u001b[39m \u001b[38;5;66;03m# un administrador de pasadas es un objeto que se encarga de aplicar optimizaciones al circuito antes de ejecutarlo en el backend.\u001b[39;00m\n\u001b[32m     16\u001b[39m \u001b[38;5;66;03m# optimization_level=1 significa que se aplicará un nivel de optimización bajo, lo que\u001b[39;00m\n\u001b[32m     17\u001b[39m \u001b[38;5;66;03m# significa que se aplicarán algunas optimizaciones, pero no todas.\u001b[39;00m\n\u001b[32m     18\u001b[39m isa_circuit = pm.run(qc)\n",
      "\u001b[31mNameError\u001b[39m: name 'generate_preset_pass_manager' is not defined"
     ]
    }
   ],
   "source": [
    "#  Un fake provider es un proveedor de backend simulado que se utiliza para probar y desarrollar programas cuánticos sin necesidad \n",
    "# de un dispositivo cuántico real.\n",
    "# El fake provider simula el comportamiento de un dispositivo cuántico real, lo que permite a los desarrolladores probar sus programas\n",
    "\n",
    "from qiskit_ibm_runtime.fake_provider import FakeAlmadenV2\n",
    "backend2 = FakeAlmadenV2()\n",
    "#FakeAlmadenV2 es un backend simulado de IBM que simula el comportamiento de un dispositivo cuántico real llamado Almaden V2.\n",
    "estimator = Estimator()\n",
    " \n",
    "# Convert to an ISA circuit and layout-mapped observables.\n",
    "# Convertir a un circuito ISA significa que el circuito se ha optimizado para el backend seleccionado y se ha mapeado a los qubits del backend.\n",
    "\n",
    "pm = generate_preset_pass_manager(backend=backend, optimization_level=1)\n",
    "# generate_preset_pass_manager() crea un administrador de pasadas preestablecido para el backend seleccionado\n",
    "# un administrador de pasadas es un objeto que se encarga de aplicar optimizaciones al circuito antes de ejecutarlo en el backend.\n",
    "# optimization_level=1 significa que se aplicará un nivel de optimización bajo, lo que\n",
    "# significa que se aplicarán algunas optimizaciones, pero no todas.\n",
    "isa_circuit = pm.run(qc)\n",
    "mapped_observables = [\n",
    "    observable.apply_layout(isa_circuit.layout) for observable in observables\n",
    "]\n",
    " \n",
    "job = estimator.run([(isa_circuit, mapped_observables)])\n",
    "result = job.result()\n",
    " \n",
    "# Este es el resultado de todo el envío. \n",
    "# Enviamos un PUB por lo que contiene un resultado interno (y algunos metadatos propios).\n",
    "# Un PUB es una unidad de procesamiento que se utiliza para ejecutar circuitos cuánticos en un backend. \n",
    "job_result = job.result()\n",
    " \n",
    "# Este es el resultado de nuestra publicación única, que tenía cinco observables\n",
    "# por lo que contiene información sobre los cinco.\n",
    " \n",
    "pub_result = job.result()[0]\n",
    "\n"
   ]
  },
  {
   "cell_type": "markdown",
   "id": "8b1d87b1",
   "metadata": {},
   "source": [
    "** continuar mirando las opciones de estas direcciones**\n",
    "\n",
    "https://github.com/derek-wang-ibm/coding-with-qiskit/blob/main/episode-3-hello-world.ipynb\n",
    "https://quantum.cloud.ibm.com/docs/es/tutorials/hello-world\n",
    "\n",
    "https://www.youtube.com/watch?v=93-zLTppFZw&list=PLZIvznntA6uKiXmqwd9xEWAWK0CUhtImA&index=2&t=48s"
   ]
  },
  {
   "cell_type": "code",
   "execution_count": 7,
   "id": "2cd15190",
   "metadata": {},
   "outputs": [
    {
     "ename": "NameError",
     "evalue": "name 'backend' is not defined",
     "output_type": "error",
     "traceback": [
      "\u001b[31m---------------------------------------------------------------------------\u001b[39m",
      "\u001b[31mNameError\u001b[39m                                 Traceback (most recent call last)",
      "\u001b[36mCell\u001b[39m\u001b[36m \u001b[39m\u001b[32mIn[7]\u001b[39m\u001b[32m, line 10\u001b[39m\n\u001b[32m      7\u001b[39m options.dynamical_decoupling.sequence_type = \u001b[33m\"\u001b[39m\u001b[33mXY4\u001b[39m\u001b[33m\"\u001b[39m\n\u001b[32m      9\u001b[39m \u001b[38;5;66;03m# Create an Estimator object\u001b[39;00m\n\u001b[32m---> \u001b[39m\u001b[32m10\u001b[39m estimator = Estimator(\u001b[43mbackend\u001b[49m, options=options)\n",
      "\u001b[31mNameError\u001b[39m: name 'backend' is not defined"
     ]
    }
   ],
   "source": [
    "from qiskit_ibm_runtime import EstimatorOptions\n",
    "from qiskit_ibm_runtime import EstimatorV2 as Estimator\n",
    " \n",
    "options = EstimatorOptions()\n",
    "options.resilience_level = 1\n",
    "options.dynamical_decoupling.enable = True\n",
    "options.dynamical_decoupling.sequence_type = \"XY4\"\n",
    " \n",
    "# Create an Estimator object\n",
    "estimator = Estimator(backend, options=options)"
   ]
  },
  {
   "cell_type": "code",
   "execution_count": 8,
   "id": "31a3505c",
   "metadata": {},
   "outputs": [
    {
     "ename": "NameError",
     "evalue": "name 'isa_circuit' is not defined",
     "output_type": "error",
     "traceback": [
      "\u001b[31m---------------------------------------------------------------------------\u001b[39m",
      "\u001b[31mNameError\u001b[39m                                 Traceback (most recent call last)",
      "\u001b[36mCell\u001b[39m\u001b[36m \u001b[39m\u001b[32mIn[8]\u001b[39m\u001b[32m, line 2\u001b[39m\n\u001b[32m      1\u001b[39m \u001b[38;5;66;03m# Submit the circuit to Estimator\u001b[39;00m\n\u001b[32m----> \u001b[39m\u001b[32m2\u001b[39m job = estimator.run([(\u001b[43misa_circuit\u001b[49m, isa_operators_list)])\n\u001b[32m      3\u001b[39m job_id = job.job_id()\n\u001b[32m      4\u001b[39m \u001b[38;5;28mprint\u001b[39m(job_id)\n",
      "\u001b[31mNameError\u001b[39m: name 'isa_circuit' is not defined"
     ]
    }
   ],
   "source": [
    "# Submit the circuit to Estimator\n",
    "job = estimator.run([(isa_circuit, isa_operators_list)])\n",
    "job_id = job.job_id()\n",
    "print(job_id)"
   ]
  }
 ],
 "metadata": {
  "kernelspec": {
   "display_name": "CondaCodingQiskitEnvironment",
   "language": "python",
   "name": "python3"
  },
  "language_info": {
   "codemirror_mode": {
    "name": "ipython",
    "version": 3
   },
   "file_extension": ".py",
   "mimetype": "text/x-python",
   "name": "python",
   "nbconvert_exporter": "python",
   "pygments_lexer": "ipython3",
   "version": "3.13.2"
  }
 },
 "nbformat": 4,
 "nbformat_minor": 5
}
