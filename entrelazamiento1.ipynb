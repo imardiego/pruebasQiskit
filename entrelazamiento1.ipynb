{
 "cells": [
  {
   "cell_type": "markdown",
   "id": "3d99381e",
   "metadata": {},
   "source": [
    "## CIRCUITO 4\n",
    "\n",
    "\n",
    "https://github.com/qiskit-community/qiskit-community-tutorials/blob/master/Coding_With_Qiskit/ep4_Gates.ipynb\n",
    "\n",
    "\n"
   ]
  },
  {
   "cell_type": "code",
   "execution_count": null,
   "id": "1c8c8cd7",
   "metadata": {},
   "outputs": [],
   "source": []
  },
  {
   "cell_type": "markdown",
   "id": "f95f8102",
   "metadata": {},
   "source": [
    "## CIRCUITO 4\n"
   ]
  },
  {
   "cell_type": "code",
   "execution_count": 1,
   "id": "a1a15c7b",
   "metadata": {},
   "outputs": [
    {
     "data": {
      "text/html": [
       "\n",
       "        <iframe\n",
       "            width=\"960.0\"\n",
       "            height=\"540.0\"\n",
       "            src=\"http://www.youtube.com/embed/tBnWG_95F9c\"\n",
       "            frameborder=\"0\"\n",
       "            allowfullscreen\n",
       "            \n",
       "        ></iframe>\n",
       "        "
      ],
      "text/plain": [
       "<IPython.lib.display.IFrame at 0x75c167494d70>"
      ]
     },
     "execution_count": 1,
     "metadata": {},
     "output_type": "execute_result"
    }
   ],
   "source": [
    "from IPython.display import IFrame\n",
    "IFrame(src=\"http://www.youtube.com/embed/tBnWG_95F9c\", width=1920/2, height=1080/2)"
   ]
  },
  {
   "cell_type": "code",
   "execution_count": 2,
   "id": "f3899950",
   "metadata": {},
   "outputs": [
    {
     "data": {
      "text/plain": [
       "<qiskit.circuit.instructionset.InstructionSet at 0x75c14f5e2710>"
      ]
     },
     "execution_count": 2,
     "metadata": {},
     "output_type": "execute_result"
    }
   ],
   "source": [
    "from qiskit import *\n",
    "circuit = QuantumCircuit(1,1)\n",
    "circuit.x(0)"
   ]
  },
  {
   "cell_type": "code",
   "execution_count": 9,
   "id": "0021935e",
   "metadata": {},
   "outputs": [],
   "source": [
    "from qiskit_aer import AerSimulator"
   ]
  },
  {
   "cell_type": "code",
   "execution_count": 10,
   "id": "5c18bcb3",
   "metadata": {},
   "outputs": [
    {
     "ename": "NameError",
     "evalue": "name 'Aer' is not defined",
     "output_type": "error",
     "traceback": [
      "\u001b[31m---------------------------------------------------------------------------\u001b[39m",
      "\u001b[31mNameError\u001b[39m                                 Traceback (most recent call last)",
      "\u001b[36mCell\u001b[39m\u001b[36m \u001b[39m\u001b[32mIn[10]\u001b[39m\u001b[32m, line 1\u001b[39m\n\u001b[32m----> \u001b[39m\u001b[32m1\u001b[39m simulator = \u001b[43mAer\u001b[49m.get_backend(\u001b[33m'\u001b[39m\u001b[33munitary_simulator\u001b[39m\u001b[33m'\u001b[39m)\n\u001b[32m      2\u001b[39m result = execute(circuit, backend=simulator).result()\n\u001b[32m      3\u001b[39m unitary = result.get_unitary()\n",
      "\u001b[31mNameError\u001b[39m: name 'Aer' is not defined"
     ]
    }
   ],
   "source": [
    "simulator = Aer.get_backend('unitary_simulator')\n",
    "result = execute(circuit, backend=simulator).result()\n",
    "unitary = result.get_unitary()\n",
    "print(unitary)"
   ]
  },
  {
   "cell_type": "code",
   "execution_count": 8,
   "id": "0876757c",
   "metadata": {},
   "outputs": [
    {
     "ename": "NameError",
     "evalue": "name 'Aer' is not defined",
     "output_type": "error",
     "traceback": [
      "\u001b[31m---------------------------------------------------------------------------\u001b[39m",
      "\u001b[31mNameError\u001b[39m                                 Traceback (most recent call last)",
      "\u001b[36mCell\u001b[39m\u001b[36m \u001b[39m\u001b[32mIn[8]\u001b[39m\u001b[32m, line 4\u001b[39m\n\u001b[32m      2\u001b[39m circuit = QuantumCircuit(\u001b[32m1\u001b[39m,\u001b[32m1\u001b[39m)\n\u001b[32m      3\u001b[39m circuit.x(\u001b[32m0\u001b[39m)\n\u001b[32m----> \u001b[39m\u001b[32m4\u001b[39m simulator = \u001b[43mAer\u001b[49m.get_backend(\u001b[33m'\u001b[39m\u001b[33mstatevector_simulator\u001b[39m\u001b[33m'\u001b[39m)\n\u001b[32m      5\u001b[39m result = execute(circuit, backend=simulator).result()\n\u001b[32m      6\u001b[39m statevector = result.get_statevector()\n",
      "\u001b[31mNameError\u001b[39m: name 'Aer' is not defined"
     ]
    }
   ],
   "source": [
    "from qiskit import *\n",
    "circuit = QuantumCircuit(1,1)\n",
    "circuit.x(0)\n",
    "simulator = Aer.get_backend('statevector_simulator')\n",
    "result = execute(circuit, backend=simulator).result()\n",
    "statevector = result.get_statevector()\n",
    "print(statevector)"
   ]
  },
  {
   "cell_type": "markdown",
   "id": "ef114d7a",
   "metadata": {},
   "source": [
    "## CIRCUITO 5\n",
    "\n",
    "conexiones con token o apikey"
   ]
  },
  {
   "cell_type": "code",
   "execution_count": 11,
   "id": "b55762f5",
   "metadata": {},
   "outputs": [
    {
     "data": {
      "text/plain": [
       "'eyJraWQiOiIyMDE5MDcyNCIsImFsZyI6IlJTMjU2In0.eyJpYW1faWQiOiJJQk1pZC02OTcwMDBTVENXI  iwiaWQiOiJJQk1pZC02OTcwMDBTVENXIiwicmVhbG1pZCI6IklCTWlkIiwianRpIjoiMTkyMGEyMzMtNTQ3Mi00ZWI2LWJjOWU  tMTRjN2M2MjY1ZGU2IiwiaWRlbnRpZmllciI6IjY5NzAwMFNUQ1ciLCJnaXZlbl9uYW1lIjoiTWlndWVsIMOBbmdlbCIsImZhb  WlseV9uYW1lIjoiUnViaW8gZGUgRGllZ28iLCJuYW1lIjoiTWlndWVsIMOBbmdlbCBSdWJpbyBkZSBEaWVnbyIsImVtYWlsIjo  iaW1hcmRpZWdvQGdtYWlsLmNvbSIsInN1YiI6ImltYXJkaWVnb0BnbWFpbC5jb20iLCJhdXRobiI6eyJzdWIiOiJpbWFyZGllZ  29AZ21haWwuY29tIiwiaWFtX2lkIjoiSUJNaWQtNjk3MDAwU1RDVyIsIm5hbWUiOiJNaWd1ZWwgw4FuZ2VsIFJ1YmlvIGRlIER  pZWdvIiwiZ2l2ZW5fbmFtZSI6Ik1pZ3VlbCDDgW5nZWwiLCJmYW1pbHlfbmFtZSI6IlJ1YmlvIGRlIERpZWdvIiwiZW1haWwiO  iJpbWFyZGllZ29AZ21haWwuY29tIn0sImFjY291bnQiOnsidmFsaWQiOnRydWUsImJzcyI6IjVhOTY2YjJhZjQyYTQ2MTE5YWV  mMTJmYTEzYTc0NDA0IiwiZnJvemVuIjp0cnVlfSwiaWF0IjoxNzU0MzMyNzk1LCJleHAiOjE3NTQzMzYzOTUsImlzcyI6Imh0d  HBzOi8vaWFtLmNsb3VkLmlibS5jb20vaWRlbnRpdHkiLCJncmFudF90eXBlIjoidXJuOmlibTpwYXJhbXM6b2F1dGg6Z3JhbnQ  tdHlwZTphcGlrZXkiLCJzY29wZSI6ImlibSBvcGVuaWQiLCJjbGllbnRfaWQiOiJkZWZhdWx0IiwiYWNyIjoxLCJhbXIiOlsic  HdkIl19.qVFSucnm4WShk-eHu8CiCtxH-f1DtmklBNz9nLv4_WVf2M5Ts0PW04Otb8jeMU2i2MaHc5ZtBETLJ_irrEQBhgPKQj  2SzmTX3DKW7TohaxVIxGCFYEro__RHA7W-c8w4fP_iY4i3vJLujm7euY9ZyEaSWxKR4S26A_91Q42i9YcffBfee5yl6tQnfG2A  pydlgBMvJGGYoNnxrQA0i0sPrD7xs15JjZ0dCYi_GIqWfF7vyzUvA16ZtSi0S8zWtV7Ld7GBEBN8HVH_3sg_fteVrS_OCtNntD  yxpRI-mKtCg5avhv2axG4yQnmSjPov2MG75oxPUTZJs6UO5RB_uFFe8w'"
      ]
     },
     "execution_count": 11,
     "metadata": {},
     "output_type": "execute_result"
    }
   ],
   "source": [
    "import json\n",
    "with open('/home/miguel/pruebasQiskit/apikey.json', 'r') as f:\n",
    "        config = json.load(f)\n",
    "token= config['token']\n",
    "token"
   ]
  },
  {
   "cell_type": "code",
   "execution_count": null,
   "id": "0ccfde62",
   "metadata": {},
   "outputs": [],
   "source": [
    "from qiskit_ibm_runtime import QiskitRuntimeService\n",
    "service = QiskitRuntimeService(channel=\"ibm_quantum\", token=token)"
   ]
  }
 ],
 "metadata": {
  "kernelspec": {
   "display_name": "CondaCodingQiskitEnvironment",
   "language": "python",
   "name": "python3"
  },
  "language_info": {
   "codemirror_mode": {
    "name": "ipython",
    "version": 3
   },
   "file_extension": ".py",
   "mimetype": "text/x-python",
   "name": "python",
   "nbconvert_exporter": "python",
   "pygments_lexer": "ipython3",
   "version": "3.13.2"
  }
 },
 "nbformat": 4,
 "nbformat_minor": 5
}
