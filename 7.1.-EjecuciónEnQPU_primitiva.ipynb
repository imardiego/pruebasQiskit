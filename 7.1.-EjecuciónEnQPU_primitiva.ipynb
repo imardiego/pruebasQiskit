{
 "cells": [
  {
   "cell_type": "markdown",
   "id": "bc52538e",
   "metadata": {},
   "source": [
    "### Ultimas instalaciones antes de ejecutar programas \n",
    "\n",
    "Para poder instalar lo que sea necesario puedo utilizar pip que es el gestor de paquetes para Python que facilita la instalación y gestión de bibliotecas de software:\n",
    "\n",
    "    - conda install pip \n",
    "\n",
    "\n",
    "Primero y desde el terminal por si pide respuesta del usuario, instalo la última versión de qiskit: \n",
    "\n",
    "    - pip install  qiskit --upgrade"
   ]
  },
  {
   "cell_type": "code",
   "execution_count": null,
   "id": "dcf8121c",
   "metadata": {},
   "outputs": [
    {
     "ename": "ModuleNotFoundError",
     "evalue": "No module named 'qiskit_ibm_runtime'",
     "output_type": "error",
     "traceback": [
      "\u001b[31m---------------------------------------------------------------------------\u001b[39m",
      "\u001b[31mModuleNotFoundError\u001b[39m                       Traceback (most recent call last)",
      "\u001b[36mCell\u001b[39m\u001b[36m \u001b[39m\u001b[32mIn[2]\u001b[39m\u001b[32m, line 3\u001b[39m\n\u001b[32m      1\u001b[39m \u001b[38;5;66;03m# Reconoce qiskit y la libreria QuantumCircuit después de instalarlo\u001b[39;00m\n\u001b[32m      2\u001b[39m \u001b[38;5;28;01mfrom\u001b[39;00m\u001b[38;5;250m \u001b[39m\u001b[34;01mqiskit\u001b[39;00m\u001b[38;5;250m \u001b[39m\u001b[38;5;28;01mimport\u001b[39;00m QuantumCircuit\n\u001b[32m----> \u001b[39m\u001b[32m3\u001b[39m \u001b[38;5;28;01mfrom\u001b[39;00m\u001b[38;5;250m \u001b[39m\u001b[34;01mqiskit_ibm_runtime\u001b[39;00m\u001b[38;5;250m \u001b[39m\u001b[38;5;28;01mimport\u001b[39;00m QiskitRuntimeService\n",
      "\u001b[31mModuleNotFoundError\u001b[39m: No module named 'qiskit_ibm_runtime'"
     ]
    }
   ],
   "source": [
    "# Reconoce qiskit y la libreria QuantumCircuit después de instalarlo\n",
    "from qiskit import QuantumCircuit\n",
    "# QiskitRuntimeService sirve para \n",
    "from qiskit_ibm_runtime import QiskitRuntimeService \n"
   ]
  },
  {
   "cell_type": "markdown",
   "id": "81487216",
   "metadata": {},
   "source": [
    "No reconoce qiskit_ibm_runtime, debo instalarla\n",
    "\n",
    "    - pip install qiskit qiskit-ibm-runtime"
   ]
  },
  {
   "cell_type": "code",
   "execution_count": 3,
   "id": "91dd8420",
   "metadata": {},
   "outputs": [
    {
     "name": "stdout",
     "output_type": "stream",
     "text": [
      "Requirement already satisfied: qiskit in /home/miguel/miniconda3/envs/CondaCodingQiskitEnvironment/lib/python3.13/site-packages (2.1.2)\n",
      "Collecting qiskit-ibm-runtime\n",
      "  Downloading qiskit_ibm_runtime-0.41.1-py3-none-any.whl.metadata (21 kB)\n",
      "Requirement already satisfied: rustworkx>=0.15.0 in /home/miguel/miniconda3/envs/CondaCodingQiskitEnvironment/lib/python3.13/site-packages (from qiskit) (0.17.1)\n",
      "Requirement already satisfied: numpy<3,>=1.17 in /home/miguel/miniconda3/envs/CondaCodingQiskitEnvironment/lib/python3.13/site-packages (from qiskit) (2.3.2)\n",
      "Requirement already satisfied: scipy>=1.5 in /home/miguel/miniconda3/envs/CondaCodingQiskitEnvironment/lib/python3.13/site-packages (from qiskit) (1.16.1)\n",
      "Requirement already satisfied: dill>=0.3 in /home/miguel/miniconda3/envs/CondaCodingQiskitEnvironment/lib/python3.13/site-packages (from qiskit) (0.4.0)\n",
      "Requirement already satisfied: stevedore>=3.0.0 in /home/miguel/miniconda3/envs/CondaCodingQiskitEnvironment/lib/python3.13/site-packages (from qiskit) (5.5.0)\n",
      "Requirement already satisfied: typing-extensions in /home/miguel/miniconda3/envs/CondaCodingQiskitEnvironment/lib/python3.13/site-packages (from qiskit) (4.15.0)\n",
      "Requirement already satisfied: requests>=2.19 in /home/miguel/miniconda3/envs/CondaCodingQiskitEnvironment/lib/python3.13/site-packages (from qiskit-ibm-runtime) (2.32.5)\n",
      "Collecting requests-ntlm>=1.1.0 (from qiskit-ibm-runtime)\n",
      "  Using cached requests_ntlm-1.3.0-py3-none-any.whl.metadata (2.4 kB)\n",
      "Requirement already satisfied: urllib3>=1.21.1 in /home/miguel/miniconda3/envs/CondaCodingQiskitEnvironment/lib/python3.13/site-packages (from qiskit-ibm-runtime) (2.5.0)\n",
      "Requirement already satisfied: python-dateutil>=2.8.0 in /home/miguel/miniconda3/envs/CondaCodingQiskitEnvironment/lib/python3.13/site-packages (from qiskit-ibm-runtime) (2.9.0.post0)\n",
      "Collecting ibm-platform-services>=0.22.6 (from qiskit-ibm-runtime)\n",
      "  Downloading ibm_platform_services-0.68.2-py3-none-any.whl.metadata (9.0 kB)\n",
      "Collecting pydantic>=2.5.0 (from qiskit-ibm-runtime)\n",
      "  Downloading pydantic-2.11.7-py3-none-any.whl.metadata (67 kB)\n",
      "Requirement already satisfied: packaging in /home/miguel/miniconda3/envs/CondaCodingQiskitEnvironment/lib/python3.13/site-packages (from qiskit-ibm-runtime) (25.0)\n",
      "Collecting ibm_cloud_sdk_core<4.0.0,>=3.24.2 (from ibm-platform-services>=0.22.6->qiskit-ibm-runtime)\n",
      "  Downloading ibm_cloud_sdk_core-3.24.2-py3-none-any.whl.metadata (8.7 kB)\n",
      "Collecting PyJWT<3.0.0,>=2.10.1 (from ibm_cloud_sdk_core<4.0.0,>=3.24.2->ibm-platform-services>=0.22.6->qiskit-ibm-runtime)\n",
      "  Using cached PyJWT-2.10.1-py3-none-any.whl.metadata (4.0 kB)\n",
      "Requirement already satisfied: six>=1.5 in /home/miguel/miniconda3/envs/CondaCodingQiskitEnvironment/lib/python3.13/site-packages (from python-dateutil>=2.8.0->qiskit-ibm-runtime) (1.17.0)\n",
      "Requirement already satisfied: charset_normalizer<4,>=2 in /home/miguel/miniconda3/envs/CondaCodingQiskitEnvironment/lib/python3.13/site-packages (from requests>=2.19->qiskit-ibm-runtime) (3.4.3)\n",
      "Requirement already satisfied: idna<4,>=2.5 in /home/miguel/miniconda3/envs/CondaCodingQiskitEnvironment/lib/python3.13/site-packages (from requests>=2.19->qiskit-ibm-runtime) (3.10)\n",
      "Requirement already satisfied: certifi>=2017.4.17 in /home/miguel/miniconda3/envs/CondaCodingQiskitEnvironment/lib/python3.13/site-packages (from requests>=2.19->qiskit-ibm-runtime) (2025.8.3)\n",
      "Collecting annotated-types>=0.6.0 (from pydantic>=2.5.0->qiskit-ibm-runtime)\n",
      "  Using cached annotated_types-0.7.0-py3-none-any.whl.metadata (15 kB)\n",
      "Collecting pydantic-core==2.33.2 (from pydantic>=2.5.0->qiskit-ibm-runtime)\n",
      "  Downloading pydantic_core-2.33.2-cp313-cp313-manylinux_2_17_x86_64.manylinux2014_x86_64.whl.metadata (6.8 kB)\n",
      "Collecting typing-inspection>=0.4.0 (from pydantic>=2.5.0->qiskit-ibm-runtime)\n",
      "  Downloading typing_inspection-0.4.1-py3-none-any.whl.metadata (2.6 kB)\n",
      "Collecting cryptography>=1.3 (from requests-ntlm>=1.1.0->qiskit-ibm-runtime)\n",
      "  Downloading cryptography-45.0.7-cp311-abi3-manylinux_2_34_x86_64.whl.metadata (5.7 kB)\n",
      "Collecting pyspnego>=0.4.0 (from requests-ntlm>=1.1.0->qiskit-ibm-runtime)\n",
      "  Downloading pyspnego-0.12.0-py3-none-any.whl.metadata (4.1 kB)\n",
      "Requirement already satisfied: cffi>=1.14 in /home/miguel/miniconda3/envs/CondaCodingQiskitEnvironment/lib/python3.13/site-packages (from cryptography>=1.3->requests-ntlm>=1.1.0->qiskit-ibm-runtime) (1.17.1)\n",
      "Requirement already satisfied: pycparser in /home/miguel/miniconda3/envs/CondaCodingQiskitEnvironment/lib/python3.13/site-packages (from cffi>=1.14->cryptography>=1.3->requests-ntlm>=1.1.0->qiskit-ibm-runtime) (2.22)\n",
      "Downloading qiskit_ibm_runtime-0.41.1-py3-none-any.whl (1.4 MB)\n",
      "\u001b[2K   \u001b[90m━━━━━━━━━━━━━━━━━━━━━━━━━━━━━━━━━━━━━━━━\u001b[0m \u001b[32m1.4/1.4 MB\u001b[0m \u001b[31m5.7 MB/s\u001b[0m  \u001b[33m0:00:00\u001b[0m eta \u001b[36m0:00:01\u001b[0m\n",
      "\u001b[?25hDownloading ibm_platform_services-0.68.2-py3-none-any.whl (366 kB)\n",
      "Downloading ibm_cloud_sdk_core-3.24.2-py3-none-any.whl (75 kB)\n",
      "Using cached PyJWT-2.10.1-py3-none-any.whl (22 kB)\n",
      "Downloading pydantic-2.11.7-py3-none-any.whl (444 kB)\n",
      "Downloading pydantic_core-2.33.2-cp313-cp313-manylinux_2_17_x86_64.manylinux2014_x86_64.whl (2.0 MB)\n",
      "\u001b[2K   \u001b[90m━━━━━━━━━━━━━━━━━━━━━━━━━━━━━━━━━━━━━━━━\u001b[0m \u001b[32m2.0/2.0 MB\u001b[0m \u001b[31m8.4 MB/s\u001b[0m  \u001b[33m0:00:00\u001b[0mm eta \u001b[36m0:00:01\u001b[0m\n",
      "\u001b[?25hUsing cached annotated_types-0.7.0-py3-none-any.whl (13 kB)\n",
      "Using cached requests_ntlm-1.3.0-py3-none-any.whl (6.6 kB)\n",
      "Downloading cryptography-45.0.7-cp311-abi3-manylinux_2_34_x86_64.whl (4.5 MB)\n",
      "\u001b[2K   \u001b[90m━━━━━━━━━━━━━━━━━━━━━━━━━━━━━━━━━━━━━━━━\u001b[0m \u001b[32m4.5/4.5 MB\u001b[0m \u001b[31m9.6 MB/s\u001b[0m  \u001b[33m0:00:00\u001b[0m6m0:00:01\u001b[0m00:01\u001b[0m\n",
      "\u001b[?25hDownloading pyspnego-0.12.0-py3-none-any.whl (130 kB)\n",
      "Downloading typing_inspection-0.4.1-py3-none-any.whl (14 kB)\n",
      "Installing collected packages: typing-inspection, PyJWT, pydantic-core, annotated-types, pydantic, ibm_cloud_sdk_core, cryptography, pyspnego, ibm-platform-services, requests-ntlm, qiskit-ibm-runtime\n",
      "\u001b[2K   \u001b[90m━━━━━━━━━━━━━━━━━━━━━━━━━━━━━━━━━━━━━━━━\u001b[0m \u001b[32m11/11\u001b[0m [qiskit-ibm-runtime]iskit-ibm-runtime]es]\n",
      "\u001b[1A\u001b[2KSuccessfully installed PyJWT-2.10.1 annotated-types-0.7.0 cryptography-45.0.7 ibm-platform-services-0.68.2 ibm_cloud_sdk_core-3.24.2 pydantic-2.11.7 pydantic-core-2.33.2 pyspnego-0.12.0 qiskit-ibm-runtime-0.41.1 requests-ntlm-1.3.0 typing-inspection-0.4.1\n",
      "Note: you may need to restart the kernel to use updated packages.\n"
     ]
    }
   ],
   "source": [
    "%pip install qiskit qiskit-ibm-runtime"
   ]
  },
  {
   "cell_type": "markdown",
   "id": "66ee5661",
   "metadata": {},
   "source": [
    "## 1.- Conectamos con el servicio. \n",
    "\n",
    "Leerá las credenciales de nuestro fichero local\n",
    "\n",
    "Consultar el ejercicio 7 ConexionIBMQPU y el documento pdf Creación Cuenta IBM\n",
    "\n",
    "https://chatgpt.com/c/68b738a1-0ab0-8321-b94a-10d54f7902c5\n",
    "\n",
    "Aplicar lo que dice chatgpt, parece que estaba ejecutanto un versión de qiskit antigua\n",
    "\n"
   ]
  },
  {
   "cell_type": "code",
   "execution_count": null,
   "id": "fdffa306",
   "metadata": {},
   "outputs": [],
   "source": [
    "%pip install qiskit qiskit-ibm-runtime"
   ]
  },
  {
   "cell_type": "code",
   "execution_count": 4,
   "id": "00cb52ce",
   "metadata": {},
   "outputs": [
    {
     "name": "stdout",
     "output_type": "stream",
     "text": [
      "Cuenta activa: {'channel': 'ibm_cloud', 'url': 'https://cloud.ibm.com', 'token': '8W5eNFyYpAYa0cbp_sX9BNnehgMBFZvPkE7z1bYOcE6m', 'instance': 'crn:v1:bluemix:public:quantum-computing:us-east:a/5a966b2af42a46119aef12fa13a74404:3bd110f9-416f-4c8d-b8f0-0a28e6f898b0::', 'verify': True, 'private_endpoint': False}\n"
     ]
    }
   ],
   "source": [
    "from qiskit import QuantumCircuit\n",
    "from qiskit_ibm_runtime import QiskitRuntimeService\n",
    "\n",
    "service = QiskitRuntimeService()\n",
    "print(\"Cuenta activa:\", service.active_account())"
   ]
  },
  {
   "cell_type": "markdown",
   "id": "17ba3a62",
   "metadata": {},
   "source": [
    "Como vemos, ya tenemos especificación del servicio de conexión \n",
    "\n",
    "Veamos que backends tengo disponibles en mi cuenta IBM"
   ]
  },
  {
   "cell_type": "code",
   "execution_count": 3,
   "id": "9ffa7c4d",
   "metadata": {},
   "outputs": [
    {
     "name": "stdout",
     "output_type": "stream",
     "text": [
      "[<IBMBackend('ibm_brisbane')>, <IBMBackend('ibm_torino')>]\n"
     ]
    }
   ],
   "source": [
    "from qiskit_ibm_runtime import QiskitRuntimeService\n",
    "\n",
    "# Cargar credenciales guardadas en el fichero apikey&crn.json\n",
    "service = QiskitRuntimeService()\n",
    "\n",
    "# Ver qué backends tienes disponibles\n",
    "print(service.backends())\n"
   ]
  },
  {
   "cell_type": "markdown",
   "id": "b38ec20a",
   "metadata": {},
   "source": [
    "Veamos una conexión real"
   ]
  },
  {
   "cell_type": "code",
   "execution_count": 8,
   "id": "6a1020b5",
   "metadata": {},
   "outputs": [
    {
     "name": "stdout",
     "output_type": "stream",
     "text": [
      "{'00': 485, '11': 476, '01': 44, '10': 19}\n"
     ]
    }
   ],
   "source": [
    "# QiskitRuntimeService \n",
    "from qiskit_ibm_runtime import QiskitRuntimeService, SamplerV2 as Sampler\n",
    "from qiskit import QuantumCircuit\n",
    "from qiskit.transpiler.preset_passmanagers import generate_preset_pass_manager\n",
    "\n",
    "# 1) Cargar el servicio (credenciales ya guardadas con save_account)\n",
    "service = QiskitRuntimeService()\n",
    "\n",
    "# 2) Elegir backend real\n",
    "backend = service.backend(\"ibm_brisbane\")\n",
    "\n",
    "# 3) Circuito de prueba (Bell)\n",
    "qc = QuantumCircuit(2)\n",
    "qc.h(0)\n",
    "qc.cx(0, 1)\n",
    "qc.measure_all()\n",
    "\n",
    "# 4) Transpilar al ISA del backend (recomendado)\n",
    "pm = generate_preset_pass_manager(backend=backend, optimization_level=1)\n",
    "isa_circuit = pm.run(qc)\n",
    "\n",
    "# 5) Crear Sampler V2 en \"job mode\" pasando el backend en 'mode'\n",
    "sampler = Sampler(mode=backend)  # <-- sin 'service' ni 'backend' kwargs\n",
    "\n",
    "# 6) Ejecutar (shots se pasa en run)\n",
    "job = sampler.run([isa_circuit], shots=1024)  # firmas: run(pubs, *, shots=None)\n",
    "result = job.result()\n",
    "\n",
    "# 7) Obtener los counts\n",
    "counts = result[0].data.meas.get_counts()\n",
    "print(counts)\n"
   ]
  },
  {
   "cell_type": "markdown",
   "id": "48f3a346",
   "metadata": {},
   "source": [
    "Se ha conectado con IBM y ha utilizado ibm_brisbane"
   ]
  },
  {
   "cell_type": "markdown",
   "id": "b691771b",
   "metadata": {},
   "source": [
    "## 2.- Creamos/Mapeamos programa cuántico simple\n",
    "\n",
    "Los cuatro pasos para escribir un programa cuántico con patrones Qiskit son:\n",
    "\n",
    "    - Mapear el problema a un formato cuántico nativo.\n",
    "\n",
    "    - Optimizar los circuitos y operadores.\n",
    "\n",
    "    - Ejecutar utilizando una función primitiva cuántica o un job\n",
    "\n",
    "    - Analizar los resultados."
   ]
  },
  {
   "cell_type": "markdown",
   "id": "732e01a2",
   "metadata": {},
   "source": [
    "**Mapeamos** o modelizamos un problema de la realidad en un circuito cuántico\n",
    "\n",
    "En un programa cuántico, los circuitos cuánticos son el formato nativo para representar instrucciones cuánticas, y los operadores representan los observables que se van a medir. Al crear un circuito, normalmente se crea un nuevo objeto QuantumCircuit y luego se le añaden instrucciones secuencialmente.\n",
    "\n",
    "La siguiente celda de código crea un circuito que produce un estado de Bell, un estado en el que dos cúbits están completamente entrelazados.\n",
    "\n",
    "NOTA: En los primeros ejercicios de ejemplo como el 2.- Entrelazamiento2qubits.ipynb nos muestra como ejecutar el mapeo, el circuito cuántico mediante un simulador, sin necesidad de utilizar una QPU física. Ahora veremos como ejecutarlo en una QPU real de la plataforma IBM-QUANTUM. "
   ]
  },
  {
   "cell_type": "code",
   "execution_count": null,
   "id": "74f160b2",
   "metadata": {},
   "outputs": [],
   "source": [
    "%pip install matplotlib\n",
    "# es necesario la instalación de  esta librería para poder \"graficar\" el  circuito siguiente. "
   ]
  },
  {
   "cell_type": "code",
   "execution_count": null,
   "id": "06c90c31",
   "metadata": {},
   "outputs": [],
   "source": [
    "%pip install pylatexenc\n",
    "# también es necesaria esta, en cada ejecución con error nos dice si falta alguna libreria"
   ]
  },
  {
   "cell_type": "code",
   "execution_count": 1,
   "id": "962dcd4d",
   "metadata": {},
   "outputs": [
    {
     "data": {
      "image/png": "[encoded data removed]",
      "text/plain": [
       "<Figure size 287.294x200.667 with 1 Axes>"
      ]
     },
     "execution_count": 1,
     "metadata": {},
     "output_type": "execute_result"
    }
   ],
   "source": [
    "# QuantumCircuit permite crear circuitos cuánticos\n",
    "# y realizar operaciones cuánticas sobre ellos.\n",
    "from qiskit import QuantumCircuit\n",
    "\n",
    "# SparsePauliOp permite trabajar con operadores de Pauli dispersos.\n",
    "# Esto significa que solo se almacenan los términos no nulos de un operador de Pauli,\n",
    "# lo que es útil para circuitos cuánticos grandes y complejos.\n",
    "from qiskit.quantum_info import SparsePauliOp\n",
    "\n",
    "# Un transpiler es una herramienta que optimiza y transforma circuitos cuánticos\n",
    "# para que sean adecuados para la ejecución en hardware cuántico específico.\n",
    "# generate_preset_pass_manager crea un gestor de pases predefinido\n",
    "# que aplica una serie de transformaciones y optimizaciones al circuito para mejorar su rendimiento.\n",
    "from qiskit.transpiler import generate_preset_pass_manager\n",
    "\n",
    "# EstimatorV2 es una clase que permite estimar valores esperados de operadores cuánticos\n",
    "# utilizando el servicio de IBM Quantum Runtime. Es una versión mejorada del Estimator original.\n",
    "# Proporciona una interfaz más eficiente y flexible para realizar estimaciones en circuitos cuánticos.\n",
    "# Cuando decimos estimar, nos referimos a calcular el valor esperado de un operador cuántico\n",
    "# dado un estado cuántico. Esto es fundamental en la computación cuántica para obtener resultados de \n",
    "# mediciones en circuitos cuánticos.\n",
    "# ES UNA DE LAS FORMAS DE TRABAJAR CON LOS DATOS DE IBM QUANTUM.\n",
    "from qiskit_ibm_runtime import EstimatorV2 as Estimator\n",
    " \n",
    "# Creamos un circuito cuántico con 2 qubits.\n",
    "qc = QuantumCircuit(2)\n",
    " \n",
    "# Colocamos una compuerta Hadamard en el qubit 0.\n",
    "# La compuerta Hadamard crea una superposición de estados.\n",
    "qc.h(0)\n",
    " \n",
    "# Ponemos una compuerta CNOT con control en el qubit 0 y objetivo en el qubit 1.\n",
    "qc.cx(0, 1)\n",
    " \n",
    "# draw() es un método que permite visualizar el circuito cuántico.\n",
    "# \"mpl\" indica que queremos dibujar el circuito usando Matplotlib.\n",
    "# Esto es útil para entender la estructura del circuito y las operaciones que se realizan.\n",
    "qc.draw(\"mpl\")"
   ]
  },
  {
   "cell_type": "markdown",
   "id": "624c8aaa",
   "metadata": {},
   "source": [
    "## 3.- Indicamos nuestros observables del circuito\n",
    "\n",
    "**¿Formas de obtener los datos al ejecutar un circuito cuántico?**\n",
    "\n",
    "Al crear circuitos cuánticos, también debe considerar el tipo de datos que desea obtener tras la ejecución. \n",
    "\n",
    "Qiskit ofrece dos maneras de obtener datos: \n",
    "\n",
    "    - puede obtener una distribución de probabilidad para un conjunto de cúbits que desee medir \n",
    "  \n",
    "    - o puede obtener el valor esperado de un observable. \n",
    "  \n",
    "Podemos medir el circuito de una de estas dos maneras con las primitivas de Qiskit (explicadas en detalle en el paso 3 ).\n",
    "\n",
    "La primera consiste en obtener los datos y generar un histograma. \n",
    "\n",
    "La segunda hace uso de las primitivas. Estas tratan los datos brutos y nos facilitan lo que nos interesa más. "
   ]
  },
  {
   "cell_type": "markdown",
   "id": "b6d82258",
   "metadata": {},
   "source": [
    "**Prearamos un conjunto de seis observables**\n",
    "\n",
    "En IBM Qiskit, un observable es un objeto matemático (representado por un operador hermítico) que corresponde a una magnitud física que se puede medir en un sistema cuántico.\n",
    "\n",
    "En mecánica cuántica, los observables son operadores hermíticos porque sus valores propios (autovalores) son reales, lo cual coincide con el hecho de que las mediciones físicas siempre producen resultados reales (energía, spin, etc.).\n",
    "\n",
    "En Qiskit los observables suelen representarse como operadores de Pauli o combinaciones lineales de ellos, usando por ejemplo:\n",
    "\n",
    "Pauli(\"Z\") → el observable σ<sub>z</sub>\n",
    "\n",
    "Pauli(\"X\") → el observable σ<sub>x</sub>\n",
    "\n",
    "SparsePauliOp([\"ZZ\", \"XI\"]) → una combinación de observables"
   ]
  },
  {
   "cell_type": "code",
   "execution_count": 2,
   "id": "a93debba",
   "metadata": {},
   "outputs": [],
   "source": [
    "# Conjunto de etiquetas de observables que se van a medir.\n",
    "# Estos observables son combinaciones de operadores de Pauli (I, X, Y, Z)\n",
    "# que se utilizan para medir diferentes propiedades del estado cuántico.\n",
    "# IZ significa que el primer qubit es medido con Z y el segundo con I,\n",
    "# IX significa que el primer qubit es medido con I y el segundo con X,\n",
    "# ZI significa que el primer qubit es medido con Z y el segundo con I,\n",
    "# XI significa que el primer qubit es medido con X y el segundo con I,\n",
    "# ZZ significa que ambos qubits son medidos con Z,\n",
    "# XX significa que ambos qubits son medidos con X.\n",
    "# Estos observables son importantes para entender las correlaciones y propiedades del sistema cuántico.\n",
    "\n",
    "observables_labels = [\"IZ\", \"IX\", \"ZI\", \"XI\", \"ZZ\", \"XX\"]\n",
    "observables = [SparsePauliOp(label) for label in observables_labels]\n"
   ]
  },
  {
   "cell_type": "markdown",
   "id": "05c48569",
   "metadata": {},
   "source": [
    "## 4.-Optimizamos: convertimos en un circuito ISA\n",
    "\n",
    "Al ejecutar circuitos en un dispositivo, es importante optimizar el conjunto de instrucciones que contiene y minimizar su profundidad total (aproximadamente el número de instrucciones). Esto garantiza la obtención de los mejores resultados posibles al reducir los efectos del error y el ruido. Además, las instrucciones del circuito deben cumplir con la Arquitectura del Conjunto de Instrucciones (ISA instructions set arquitecture) del dispositivo backend y considerar las puertas base y la conectividad de cúbits del dispositivo.\n",
    "\n",
    "El siguiente código instancia un dispositivo real al que se le envía un trabajo y transforma el circuito y los observables para que coincidan con la ISA de ese backend. Requiere que ya haya guardado sus credenciales, es decir, que ya haya hecho una conexión identificándome con apikey y crn. \n",
    "\n",
    "https://quantum.cloud.ibm.com/docs/es/guides/transpile#instruction-set-architecture"
   ]
  },
  {
   "cell_type": "code",
   "execution_count": 4,
   "id": "0e190475",
   "metadata": {},
   "outputs": [
    {
     "ename": "NameError",
     "evalue": "name 'service' is not defined",
     "output_type": "error",
     "traceback": [
      "\u001b[31m---------------------------------------------------------------------------\u001b[39m",
      "\u001b[31mNameError\u001b[39m                                 Traceback (most recent call last)",
      "\u001b[36mCell\u001b[39m\u001b[36m \u001b[39m\u001b[32mIn[4]\u001b[39m\u001b[32m, line 12\u001b[39m\n\u001b[32m      1\u001b[39m \u001b[38;5;66;03m#from qiskit_ibm_runtime import QiskitRuntimeService\u001b[39;00m\n\u001b[32m      2\u001b[39m \u001b[38;5;66;03m#service = QiskitRuntimeService()\u001b[39;00m\n\u001b[32m      3\u001b[39m \u001b[38;5;66;03m# ya nos conectamos al servicio de IBM Quantum Runtime con las credenciales guardadas al comienzo de \u001b[39;00m\n\u001b[32m   (...)\u001b[39m\u001b[32m     10\u001b[39m \u001b[38;5;66;03m# operational=True indica que solo consideramos backends que están operativos.\u001b[39;00m\n\u001b[32m     11\u001b[39m \u001b[38;5;66;03m# Esto es importante para evitar errores al enviar trabajos a backends que no están disponibles.\u001b[39;00m\n\u001b[32m---> \u001b[39m\u001b[32m12\u001b[39m backend = \u001b[43mservice\u001b[49m.least_busy(simulator=\u001b[38;5;28;01mFalse\u001b[39;00m, operational=\u001b[38;5;28;01mTrue\u001b[39;00m)\n\u001b[32m     14\u001b[39m \u001b[38;5;66;03m# Convierte a un circuito ISA y observables mapeados en diseño.\u001b[39;00m\n\u001b[32m     15\u001b[39m \u001b[38;5;66;03m# pm contiene un gestor de pases predefinido que aplica optimizaciones y transformaciones al circuito.\u001b[39;00m\n\u001b[32m     16\u001b[39m \u001b[38;5;66;03m# backend es el backend seleccionado donde se ejecutará el circuito.\u001b[39;00m\n\u001b[32m     17\u001b[39m \u001b[38;5;66;03m# optimization_level=1 indica el nivel de optimización que se aplicará al circuito.\u001b[39;00m\n\u001b[32m     18\u001b[39m \u001b[38;5;66;03m# Un nivel de optimización más alto puede mejorar el rendimiento del circuito,\u001b[39;00m\n\u001b[32m     19\u001b[39m \u001b[38;5;66;03m# pero también puede aumentar el tiempo de compilación.\u001b[39;00m\n\u001b[32m     20\u001b[39m pm = generate_preset_pass_manager(backend=backend, optimization_level=\u001b[32m1\u001b[39m)\n",
      "\u001b[31mNameError\u001b[39m: name 'service' is not defined"
     ]
    }
   ],
   "source": [
    "#from qiskit_ibm_runtime import QiskitRuntimeService\n",
    "#service = QiskitRuntimeService()\n",
    "# ya nos conectamos al servicio de IBM Quantum Runtime con las credenciales guardadas al comienzo de \n",
    "# este cuaderno.\n",
    "\n",
    "# Seleccionamos el backend más adecuado para ejecutar nuestro circuito.\n",
    "# El método least_busy busca el backend menos ocupado que esté operativo y no sea un simulador.\n",
    "# Esto es útil para asegurarnos de que nuestro trabajo se ejecute lo más rápido posible.\n",
    "# simulator=False indica que no queremos un simulador, sino un backend real.\n",
    "# operational=True indica que solo consideramos backends que están operativos.\n",
    "# Esto es importante para evitar errores al enviar trabajos a backends que no están disponibles.\n",
    "backend = service.least_busy(simulator=False, operational=True)\n",
    " \n",
    "# Convierte a un circuito ISA y observables mapeados en diseño.\n",
    "# pm contiene un gestor de pases predefinido que aplica optimizaciones y transformaciones al circuito.\n",
    "# backend es el backend seleccionado donde se ejecutará el circuito.\n",
    "# optimization_level=1 indica el nivel de optimización que se aplicará al circuito.\n",
    "# Un nivel de optimización más alto puede mejorar el rendimiento del circuito,\n",
    "# pero también puede aumentar el tiempo de compilación.\n",
    "pm = generate_preset_pass_manager(backend=backend, optimization_level=1)\n",
    "\n",
    "# Transforma el circuito y los observables para que coincidan con la ISA del backend.\n",
    "# Esto es necesario para que el circuito y los observables sean compatibles con las instrucciones del backend\n",
    "# y puedan ejecutarse correctamente en el hardware cuántico.\n",
    "isa_circuit = pm.run(qc)\n",
    "\n",
    "# dibuja el circuito cuántico transformado utilizando Matplotlib.\n",
    "# Esto nos permite visualizar cómo se ha modificado el circuito para adaptarse a la ISA del backend.\n",
    "# idle_wires=False indica que no queremos mostrar los qubits inactivos en el circuito.\n",
    "# Esto es útil para simplificar la visualización y centrarnos en las operaciones relevantes.\n",
    "# Esto es útil para entender cómo se ha optimizado el circuito y qué operaciones se han realizado\n",
    "# para adaptarlo al backend específico.\n",
    "isa_circuit.draw(\"mpl\", idle_wires=False)"
   ]
  },
  {
   "cell_type": "markdown",
   "id": "4acd580c",
   "metadata": {},
   "source": [
    "## Habrá que analizar esta optimización de arriba\n",
    "\n",
    "**Antes debería ponerme al día en algebra matricial cuántica.**\n",
    "\n",
    "Revisar la optimización anterior puerta por puerta.\n"
   ]
  },
  {
   "cell_type": "markdown",
   "id": "c3dceab7",
   "metadata": {},
   "source": [
    "## 5.-Ejecutamos: usando primitivas cuánticas\n",
    "\n",
    "Las computadoras cuánticas **pueden producir resultados aleatorios, por lo que se suele recopilar una muestra de las salidas ejecutando el circuito varias veces**. \n",
    "\n",
    "Se puede estimar el valor del observable utilizando la clase Estimator. **Estimator** es una de dos primitivas ; la otra es **Sampler**, que puede utilizarse para obtener datos de una computadora cuántica. \n",
    "\n",
    "**Primitivas:**\n",
    "\n",
    "https://quantum.cloud.ibm.com/docs/guides/get-started-with-primitives\n",
    "\n",
    "    - Estimator\n",
    "  \n",
    "    - Sampler\n",
    "  \n",
    "\n",
    "Estos objetos poseen un método run() que ejecuta la selección de circuitos, observables y parámetros (si corresponde), mediante un bloque unificado de primitivas (PUB).\n",
    "\n",
    "https://quantum.cloud.ibm.com/docs/guides/primitives#sampler"
   ]
  },
  {
   "cell_type": "markdown",
   "id": "e53c5344",
   "metadata": {},
   "source": [
    "**Ejecución**\n",
    "\n",
    "En el código de debajo se muestra como ejecutar mediante primitivas. \n",
    "\n",
    "De las dos que conocemos elegimos Estimator. \n",
    "\n",
    "La otra se llama Sampler"
   ]
  },
  {
   "cell_type": "code",
   "execution_count": null,
   "id": "b10288d4",
   "metadata": {},
   "outputs": [
    {
     "name": "stdout",
     "output_type": "stream",
     "text": [
      ">>> Job ID: d2gqmseactes73f4l26g\n"
     ]
    }
   ],
   "source": [
    "# Generamos una instancia de EstimatorV2 para estimar los valores esperados de los observables.\n",
    "# EstimatorV2 es una clase que permite realizar estimaciones de valores esperados de operadores\n",
    "# cuánticos utilizando el servicio de IBM Quantum Runtime.\n",
    "# mode=backend indica que queremos utilizar el backend seleccionado para las estimaciones.\n",
    "# Esto es importante porque cada backend puede tener diferentes capacidades y restricciones,\n",
    "# y queremos asegurarnos de que nuestras estimaciones se realicen en el contexto adecuado.\n",
    "\n",
    "estimator = Estimator(mode=backend)\n",
    "\n",
    "# Le indicamos al estimador que queremos utilizar un nivel de resiliencia 1.\n",
    "# Esto significa que el estimador aplicará ciertas técnicas para mejorar la precisión de las estimaciones\n",
    "# y reducir el impacto de errores en el hardware cuántico.\n",
    "# Un nivel de resiliencia más alto puede mejorar la calidad de las estimaciones,\n",
    "# pero también puede aumentar el tiempo de ejecución y los recursos necesarios.\n",
    "# default_shots=5000 indica que queremos realizar 5000 disparos (shots)\n",
    "# para cada estimación. Los disparos son repeticiones del circuito cuántico\n",
    "# que se utilizan para obtener una distribución de resultados y calcular el valor esperado.\n",
    "# Un mayor número de disparos puede mejorar la precisión de las estimaciones,\n",
    "# pero también aumenta el tiempo de ejecución y los recursos necesarios.\n",
    "estimator.options.resilience_level = 1\n",
    "estimator.options.default_shots = 5000\n",
    " \n",
    "# apply_laoyout aplica el diseño del circuito ISA a los observables.\n",
    "# Esto es necesario para que los observables sean compatibles con el circuito transformado\n",
    "# y puedan medirse correctamente en el hardware cuántico.\n",
    "# Esto asegura que los observables se alineen con las operaciones del circuito\n",
    "# y se midan en los qubits correctos.\n",
    "# Esto es importante para obtener resultados precisos y significativos de las mediciones.\n",
    "# mapped_observables es una lista de observables transformados que se aplican al diseño\n",
    "# del circuito ISA. Cada observable se aplica al diseño del circuito para asegurarse\n",
    "# de que las mediciones se realicen en los qubits correctos y se alineen\n",
    "# con las operaciones del circuito.\n",
    "mapped_observables = [\n",
    "    observable.apply_layout(isa_circuit.layout) for observable in observables\n",
    "]\n",
    " \n",
    "# Un pub con un circuito ISA y observables mapeados se envía al estimador para su ejecución.\n",
    "# run() es un método que envía el circuito y los observables al backend para su ejecución.\n",
    "# El resultado es un objeto Job que contiene información sobre el trabajo enviado,\n",
    "# incluyendo el ID del trabajo, el estado del trabajo y los resultados de las mediciones.\n",
    "# Este objeto Job se puede utilizar para recuperar los resultados más tarde.\n",
    "# El método run() toma una lista de tuplas, donde cada tupla contiene el circuito\n",
    "# y los observables que se van a medir. \n",
    "job = estimator.run([(isa_circuit, mapped_observables)])\n",
    " \n",
    "# Use the job ID to retrieve your job data later\n",
    "print(f\">>> Job ID: {job.job_id()}\")"
   ]
  },
  {
   "cell_type": "markdown",
   "id": "4f37d2e0",
   "metadata": {},
   "source": [
    "## 6.- Recuperar información tras ejecutar el trabajo"
   ]
  },
  {
   "cell_type": "markdown",
   "id": "bc1e96b5",
   "metadata": {},
   "source": [
    "Tras enviar un trabajo, podemos hacer dos cosas: \n",
    "\n",
    "-  esperar a que se complete en su instancia de Python actual \n",
    "  \n",
    "-  o usar job_id para recuperar los datos posteriormente. \n",
    "   \n",
    "(Consulte la sección sobre la recuperación de trabajos para obtener más información).\n",
    "\n",
    "Una vez completado el trabajo, examine su salida mediante el atributo result().\n",
    "\n",
    "https://quantum.cloud.ibm.com/docs/es/guides/save-jobs"
   ]
  },
  {
   "cell_type": "code",
   "execution_count": 7,
   "id": "f7e11009",
   "metadata": {},
   "outputs": [],
   "source": [
    "# job.result() es un método que devuelve el resultado del trabajo enviado.\n",
    "# Este método espera a que el trabajo se complete y luego devuelve un objeto Result\n",
    "# que contiene los resultados de las mediciones realizadas en el circuito cuántico.\n",
    "# Este es el resultado de todo el envío. Enviaste una  PUB, que es un tipo de trabajo,\n",
    "# job_result() contiene un resultado interno (y algunos metadatos propios).\n",
    "job_result = job.result()\n",
    "\n",
    "# job.result()[0] es un método que devuelve el primer resultado del trabajo enviado.\n",
    "# En este caso, el trabajo enviado fue una PUB que contenía un circuito y seis observables.\n",
    "# Por lo tanto, job.result()[0] devuelve el resultado de la ejecución del circuito\n",
    "# y las mediciones de los seis observables.\n",
    "# Solo del primer trabajo, aunque en este caso solo enviamos uno. \n",
    "pub_result = job.result()[0]"
   ]
  },
  {
   "cell_type": "markdown",
   "id": "64e16fd0",
   "metadata": {},
   "source": [
    "## 7.- Analizar:  los resultados \n",
    "\n",
    "Utilizamos la primitiva EstimatorV2 que ya nos devuelve datos calculados sobre los obtenidos. \n",
    "En este caso obtenemos directamente los valores esperados, así como las desviaciones estandar. "
   ]
  },
  {
   "cell_type": "code",
   "execution_count": 11,
   "id": "9292013d",
   "metadata": {},
   "outputs": [],
   "source": [
    "# Dibujamos el resultado de los datos obtenidos por la PUB o el único trabajo enviado.\n",
    " \n",
    "from matplotlib import pyplot as plt\n",
    "\n",
    "# pub_result es un objeto con varios atributos que contienen los resultados de las mediciones.\n",
    "# data.evs contiene los valores esperados de los observables medidos.\n",
    "# Estos valores son el resultado de las estimaciones realizadas por el estimador\n",
    "values = pub_result.data.evs\n",
    "\n",
    "# data.stds contiene las desviaciones estándar de los valores esperados,\n",
    "# lo que indica la incertidumbre asociada a las mediciones.\n",
    "errors = pub_result.data.stds\n",
    "\n",
    "# Esta es la ventaja  de utilizar la primitiva EstimatorV2,\n",
    "# ya que nos proporciona tanto los valores esperados como las desviaciones estándar.\n",
    "# De recoger los datos brutos, deberíamos calcularlos nosotros mismos\n",
    "\n"
   ]
  },
  {
   "cell_type": "markdown",
   "id": "5c69fd2f",
   "metadata": {},
   "source": [
    "**Dibujamos los datos obtenidos:**\n",
    "\n",
    "El valor de cada una de las  etiquetas. "
   ]
  },
  {
   "cell_type": "code",
   "execution_count": 12,
   "id": "192077e4",
   "metadata": {},
   "outputs": [
    {
     "data": {
      "image/png": "[encoded data removed]",
      "text/plain": [
       "<Figure size 640x480 with 1 Axes>"
      ]
     },
     "metadata": {},
     "output_type": "display_data"
    }
   ],
   "source": [
    "# plotting graph\n",
    "plt.plot(observables_labels, values, \"-o\")\n",
    "plt.xlabel(\"Observables\")\n",
    "plt.ylabel(\"Values\")\n",
    "plt.show()"
   ]
  },
  {
   "cell_type": "markdown",
   "id": "0fd53454",
   "metadata": {},
   "source": [
    "## 8.- No ejecutar en backen real. Usar \n",
    "\n",
    "Al ejecutar su programa cuántico en un dispositivo real, la carga de trabajo debe esperar en una cola antes de ejecutarse. \n",
    "\n",
    "Para ahorrar tiempo, puede usar el siguiente código para ejecutar esta pequeña carga de trabajo en **fake_provider** con el modo de **prueba local** de Qiskit Runtime. \n",
    "\n",
    "https://quantum.cloud.ibm.com/docs/es/api/qiskit-ibm-runtime/fake-provider\n",
    "\n",
    "El módulo de proveedor falso contiene proveedores falsos y clases de backends falsos. Estos backends falsos están diseñados para imitar el comportamiento de los sistemas IBM Quantum mediante instantáneas del sistema. Estas instantáneas contienen información importante sobre el sistema cuántico, como el mapa de acoplamiento, las puertas de base y las propiedades de los cúbits (T1, T2, tasa de error, etc.), que resultan útiles para probar el transpilador y realizar simulaciones con ruido del sistema.\n",
    "\n",
    "Esto solo es posible para circuitos pequeños. \n",
    "\n",
    "**Ejecutaríamos los pasos del 2, 3  y luego el 8 simulador:**\n",
    "\n",
    "Para comprobarlo reiniciamos el kernel y luego ejecutamos el 2 el 3 y el 8 simulador. "
   ]
  },
  {
   "cell_type": "code",
   "execution_count": null,
   "id": "bc438716",
   "metadata": {},
   "outputs": [
    {
     "name": "stdout",
     "output_type": "stream",
     "text": [
      "[0.04541016 0.07275391 0.12451172 0.1640625  0.80175781 0.76220703]\n"
     ]
    }
   ],
   "source": [
    "# Código alternativo que nos permite ejecutar en un simulador en lugar de un backend real.\n",
    "# qiskit_ibm_runtime tiene el método fake_provider que permite invocar una imagen de un backend simulado.\n",
    "# Esto es útil para pruebas y desarrollo sin necesidad de utilizar un backend real. \n",
    "# Hay varios backends simulados disponibles, como FakeAlmadenV2. Cada uno representa una imagen \n",
    "# de un computador cuántico físico.\n",
    "# Construimos el objeto backend y se lo pasasmos al EstimatorV2.\n",
    "from qiskit_ibm_runtime.fake_provider import FakeAlmadenV2\n",
    "backend = FakeAlmadenV2()\n",
    "estimator = Estimator(backend)\n",
    " \n",
    "# Convertimos a un circuito ISA y observables mapeados en diseño.\n",
    "# pm contiene un gestor de pases predefinido que aplica optimizaciones y transformaciones al circuito.\n",
    "# backend es el backend simulado seleccionado donde se ejecutará el circuito. \n",
    "pm = generate_preset_pass_manager(backend=backend, optimization_level=1)\n",
    "# el resto es lo mismo que se hace en el paso 4\n",
    "isa_circuit = pm.run(qc)\n",
    "mapped_observables = [\n",
    "    observable.apply_layout(isa_circuit.layout) for observable in observables\n",
    "]\n",
    " \n",
    "job = estimator.run([(isa_circuit, mapped_observables)])\n",
    "result = job.result()\n",
    " \n",
    "# This is the result of the entire submission.  You submitted one Pub,\n",
    "# so this contains one inner result (and some metadata of its own).\n",
    " \n",
    "job_result = job.result()\n",
    " \n",
    "# This is the result from our single pub, which had five observables,\n",
    "# so contains information on all five.\n",
    " \n",
    "pub_result = job.result()[0]\n",
    "print(pub_result.data.evs)"
   ]
  },
  {
   "cell_type": "markdown",
   "id": "2c52b107",
   "metadata": {},
   "source": [
    "**También podemos dibujarlo**"
   ]
  },
  {
   "cell_type": "code",
   "execution_count": 4,
   "id": "d56878e3",
   "metadata": {},
   "outputs": [
    {
     "data": {
      "image/png": "[encoded data removed]",
      "text/plain": [
       "<Figure size 339.775x200.667 with 1 Axes>"
      ]
     },
     "execution_count": 4,
     "metadata": {},
     "output_type": "execute_result"
    }
   ],
   "source": [
    "isa_circuit.draw(\"mpl\", idle_wires=False)"
   ]
  },
  {
   "cell_type": "markdown",
   "id": "f191cdbe",
   "metadata": {},
   "source": [
    "## 9.- Analizamos los resultados\n",
    "\n",
    "El paso de análisis suele ser donde se posprocesan los resultados mediante, por ejemplo, la mitigación de errores de medición o la extrapolación de ruido cero (ZNE). Puede introducir estos resultados en otro flujo de trabajo para un análisis más profundo o preparar un gráfico de los valores clave y los datos. En general, este paso es específico para cada problema. Para este ejemplo, grafique cada uno de los valores esperados medidos para nuestro circuito.\n",
    "\n",
    "**Obtenemos los resultados con job a través de pub_result**\n",
    "\n",
    "Se accede a los valores esperados y las desviaciones estándar de los observables especificados en Estimator mediante los atributos PubResult.data.evs y PubResult.data.stds del resultado del trabajo.\n",
    "\n",
    "**Si quisieramos obtener los resultados mediante Sampler** otra forma de obtener los resultados entonces: \n",
    "Utilizamos la función **PubResult.data.meas.get_counts()**, que devolverá un diccionario de mediciones en forma de cadenas de bits como claves y recuentos como sus valores correspondientes. Para obtener más información, consulte Introducción a Sampler:\n",
    "\n",
    "https://quantum.cloud.ibm.com/docs/es/guides/get-started-with-primitives#get-started-with-sampler"
   ]
  },
  {
   "cell_type": "markdown",
   "id": "5db90c4e",
   "metadata": {},
   "source": [
    "**Una manera de analizar los resultados es dibujarlos**\n",
    "\n",
    "En función de los datos obtenidos"
   ]
  },
  {
   "cell_type": "code",
   "execution_count": 5,
   "id": "ec50f237",
   "metadata": {},
   "outputs": [
    {
     "data": {
      "image/png": "[encoded data removed]",
      "text/plain": [
       "<Figure size 640x480 with 1 Axes>"
      ]
     },
     "metadata": {},
     "output_type": "display_data"
    }
   ],
   "source": [
    "# Plot the result\n",
    " \n",
    "from matplotlib import pyplot as plt\n",
    " \n",
    "values = pub_result.data.evs\n",
    " \n",
    "errors = pub_result.data.stds\n",
    " \n",
    "# plotting graph\n",
    "plt.plot(observables_labels, values, \"-o\")\n",
    "plt.xlabel(\"Observables\")\n",
    "plt.ylabel(\"Values\")\n",
    "plt.show()"
   ]
  },
  {
   "cell_type": "markdown",
   "id": "bd619c99",
   "metadata": {},
   "source": [
    "## 10.- Obtenemos los datos con Sampler\n",
    "\n",
    "Antes lo hicimos con Estimator. \n",
    "\n",
    "Veamos como se hace con Sampler.\n",
    "\n",
    "https://quantum.cloud.ibm.com/docs/es/guides/get-started-with-primitives#get-started-with-sampler"
   ]
  },
  {
   "cell_type": "markdown",
   "id": "950fbfdb",
   "metadata": {},
   "source": [
    "### 10.1.- Conexión con el servicio de IBM Quantum Runtime\n",
    "\n",
    "Dado que Qiskit Runtime Sampler es un servicio administrado, primero debe inicializar su cuenta. \n",
    "\n",
    "A continuación, podremos seleccionar la QPU que desea usar para calcular el valor esperado.\n",
    "\n",
    "**Para realizar esta prueba, deberíamos reiniciar el kernel y empezar a ejecutar desde 10.1**"
   ]
  },
  {
   "cell_type": "code",
   "execution_count": null,
   "id": "79181b0a",
   "metadata": {},
   "outputs": [],
   "source": [
    "# Invocamos el servicio de IBM Quantum Runtime para seleccionar el backend más adecuado.\n",
    "from qiskit_ibm_runtime import QiskitRuntimeService\n",
    " \n",
    "# Nos conectamos al servicio de IBM Quantum Runtime con las credenciales guardadas al comienzo de \n",
    "# este cuaderno.\n",
    "service = QiskitRuntimeService()\n",
    "\n",
    "# Seleccionamos el backend más adecuado para ejecutar nuestro circuito.\n",
    "# El método least_busy busca el backend menos ocupado que esté operativo y no sea un simulador.\n",
    "# Esto es útil para asegurarnos de que nuestro trabajo se ejecute lo más rápido posible.\n",
    "# operational=True indica que solo consideramos backends que están operativos.\n",
    "# simulator=False indica que no queremos un simulador, sino un backend real.\n",
    "# min_num_qubits=127 indica que queremos un backend con al menos 127 qubits\n",
    "backend = service.least_busy(\n",
    "    operational=True, simulator=False, min_num_qubits=127\n",
    ")"
   ]
  },
  {
   "cell_type": "markdown",
   "id": "26957708",
   "metadata": {},
   "source": [
    "### 10.2.- Creamos un circuito"
   ]
  },
  {
   "cell_type": "code",
   "execution_count": 2,
   "id": "b3c8082b",
   "metadata": {},
   "outputs": [],
   "source": [
    "import numpy as np\n",
    "# efficient_su2 es una función que genera un circuito cuántico parametrizado\n",
    "# utilizando la descomposición Efficient SU(2). Esta descomposición es útil para crear\n",
    "# circuitos cuánticos que pueden representar cualquier operación unitaria en un espacio de Hilbert\n",
    "# de dimensión 2^n, donde n es el número de qubits. La función efficient_su2 toma como argumento \n",
    "# el número de qubits # y el tipo de entrelazamiento que se desea utilizar (en este caso, \"linear\").\n",
    "# Esto significa que los qubits estarán entrelazados de manera lineal, es decir, cada qubit estará \n",
    "# conectado al siguiente en una cadena.\n",
    "from qiskit.circuit.library import efficient_su2\n",
    "\n",
    "# efficient_su2 genera un circuito cuántico parametrizado con 127 qubits y entrelazamiento lineal.\n",
    "# Este circuito es útil para realizar cálculos cuánticos complejos y se puede utilizar\n",
    "# para estimar valores esperados de operadores cuánticos.\n",
    "circuit = efficient_su2(127, entanglement=\"linear\")\n",
    "\n",
    "# measure_all() es un método que agrega mediciones a todos los qubits del circuito.\n",
    "# Esto es necesario para obtener resultados de las mediciones realizadas en el circuito cuántico.\n",
    "# Las mediciones son fundamentales en la computación cuántica, ya que nos permiten obtener\n",
    "# información sobre el estado cuántico del sistema y realizar inferencias sobre los resultados.\n",
    "circuit.measure_all()\n",
    "\n",
    "# El circuito es un circuito cuántico parametrizado, lo que significa que contiene parámetros\n",
    "# que pueden ser ajustados para modificar el comportamiento del circuito.\n",
    "# num_parameters es un atributo que devuelve el número de parámetros en el circuito.\n",
    "# En este caso, el circuito tiene 127 parámetros, lo que significa que hay 127\n",
    "# valores que se pueden ajustar para modificar el circuito.\n",
    "# Estos parámetros son importantes para la optimización y ajuste del circuito\n",
    "# para adaptarlo a diferentes tareas y objetivos en la computación cuántica.   \n",
    "\n",
    "param_values = np.random.rand(circuit.num_parameters)"
   ]
  },
  {
   "cell_type": "markdown",
   "id": "ab5cc099",
   "metadata": {},
   "source": [
    "### 10.3.- Usamos un transpiler para obtener un circuito ISA\n"
   ]
  },
  {
   "cell_type": "code",
   "execution_count": 3,
   "id": "cefe6ec5",
   "metadata": {},
   "outputs": [
    {
     "name": "stdout",
     "output_type": "stream",
     "text": [
      ">>> Circuit ops (ISA): OrderedDict({'rz': 3647, 'sx': 2061, 'ecr': 579, 'measure': 127, 'x': 14, 'barrier': 1})\n"
     ]
    }
   ],
   "source": [
    "from qiskit.transpiler import generate_preset_pass_manager\n",
    " \n",
    "pm = generate_preset_pass_manager(optimization_level=1, backend=backend)\n",
    "isa_circuit = pm.run(circuit)\n",
    "print(f\">>> Circuit ops (ISA): {isa_circuit.count_ops()}\")"
   ]
  },
  {
   "cell_type": "markdown",
   "id": "63741602",
   "metadata": {},
   "source": [
    "### 10.4.- Inicializamos el muestreador de tiempo de ejecución de Qiskit\n",
    "\n",
    "Al inicializar el Sampler, utilizamos el parámetro de modo para especificar el modo de ejecución. \n",
    "\n",
    "Los valores posibles son lote, sesión u objetos de backend para los modos de ejecución de lote, \n",
    "sesión y trabajo, respectivamente. \n",
    "\n",
    "Para obtener más información, consulte Introducción a los modos de ejecución de Qiskit Runtime. \n",
    "Tenga en cuenta que los usuarios de Open Plan no pueden enviar trabajos de sesión.\n",
    "\n",
    "https://quantum.cloud.ibm.com/docs/es/guides/execution-modes"
   ]
  },
  {
   "cell_type": "code",
   "execution_count": 4,
   "id": "4e242c7a",
   "metadata": {},
   "outputs": [],
   "source": [
    "from qiskit_ibm_runtime import SamplerV2 as Sampler\n",
    " \n",
    "sampler = Sampler(mode=backend)"
   ]
  },
  {
   "cell_type": "markdown",
   "id": "8ea70007",
   "metadata": {},
   "source": [
    "### 4._ Invocar el Sampler y obtener los resultados.\n",
    "\n",
    "A continuación, invocamos el método run() para generar la salida. \n",
    "\n",
    "El circuito y los conjuntos de valores de los parámetros opcionales se introducen como tuplas de bloques unificados primitivos (PUB)."
   ]
  },
  {
   "cell_type": "code",
   "execution_count": 5,
   "id": "b8a41339",
   "metadata": {},
   "outputs": [
    {
     "name": "stdout",
     "output_type": "stream",
     "text": [
      ">>> Job ID: d2guhkg3omtc738i0j50\n",
      ">>> Job Status: QUEUED\n"
     ]
    }
   ],
   "source": [
    "job = sampler.run([(isa_circuit, param_values)])\n",
    "print(f\">>> Job ID: {job.job_id()}\")\n",
    "print(f\">>> Job Status: {job.status()}\")"
   ]
  },
  {
   "cell_type": "code",
   "execution_count": 6,
   "id": "ddf89538",
   "metadata": {},
   "outputs": [
    {
     "name": "stdout",
     "output_type": "stream",
     "text": [
      "First ten results for the 'meas' output register: ['1101110111100000111001011010111101000000100010000110100100110100110101110101111101000101001111101011110110100111100100001011110', '1011101010100000011000100010111010001110000110001001001111010000110111011001111001110101000011001100110011010100101000111101110', '0101011111000111011101100001000100101111111001110101000000010010000111011100011100011111101110010110110011101111110000111110101', '0101011001010000010000100011111111110010100010001001101001110010000111111100100001001000001001111110101001101110111000110011110', '1010000000010101011100111001101011000110110010101111010000111111000111011011110001001000001010011110111110110010101110100001111', '1000011001011111110110001110110010111111111101110000101001111011100101010011010100100101110000111010000100100110111101111011100', '1001101000101011001111110000110001110111001010110010011100111100110001000001010101001010111010100111011101010011010000011111101', '0100111100100111111011110011001010010011111010011101101111110111000111001110000000011111100100011111110111110100110001111001011', '1100101111010000011101101001000111011100111000011100101001001111011111111101110001001101110001011111101110000110101001111000110', '0100100010100001101001010110000000101011001001100011000001111000100011010010000011000101011100111111100110110010001101111001111']\n"
     ]
    }
   ],
   "source": [
    "result = job.result()\n",
    " \n",
    "# Get results for the first (and only) PUB\n",
    "pub_result = result[0]\n",
    "print(\n",
    "    f\"First ten results for the 'meas' output register: {pub_result.data.meas.get_bitstrings()[:10]}\"\n",
    ")"
   ]
  }
 ],
 "metadata": {
  "kernelspec": {
   "display_name": "CondaCodingQiskitEnvironment",
   "language": "python",
   "name": "python3"
  },
  "language_info": {
   "codemirror_mode": {
    "name": "ipython",
    "version": 3
   },
   "file_extension": ".py",
   "mimetype": "text/x-python",
   "name": "python",
   "nbconvert_exporter": "python",
   "pygments_lexer": "ipython3",
   "version": "3.13.5"
  }
 },
 "nbformat": 4,
 "nbformat_minor": 5
}
