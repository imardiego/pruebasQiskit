{
 "cells": [
  {
   "cell_type": "markdown",
   "metadata": {},
   "source": []
  },
  {
   "cell_type": "markdown",
   "metadata": {},
   "source": [
    "## Entrelazamiento 2 qubit el segundo en fase negativa"
   ]
  },
  {
   "cell_type": "code",
   "execution_count": null,
   "metadata": {},
   "outputs": [],
   "source": [
    "# Si no tenemos instalado Qiskit Aer, podemos instalarlo con los siguientes comandos:\n",
    "!pip install qiskit-aer\n",
    "!pip install --upgrade qiskit-aer"
   ]
  },
  {
   "cell_type": "code",
   "execution_count": 4,
   "metadata": {},
   "outputs": [],
   "source": [
    "# Importo las liberías necesarias de Qiskit: QuantumCicuit \n",
    "# QuantumCircuit es una clase que permite crear circuitos cuánticos.\n",
    "# y Aer, que es un simulador de Qiskit.\n",
    "from qiskit import QuantumCircuit\n",
    "from qiskit_aer import Aer"
   ]
  },
  {
   "cell_type": "code",
   "execution_count": 5,
   "metadata": {},
   "outputs": [
    {
     "data": {
      "text/html": [
       "<pre style=\"word-wrap: normal;white-space: pre;background: #fff0;line-height: 1.1;font-family: &quot;Courier New&quot;,Courier,monospace\">     ┌───┐\n",
       "q_0: ┤ H ├\n",
       "     └───┘\n",
       "q_1: ─────\n",
       "          \n",
       "c: 2/═════\n",
       "          </pre>"
      ],
      "text/plain": [
       "     ┌───┐\n",
       "q_0: ┤ H ├\n",
       "     └───┘\n",
       "q_1: ─────\n",
       "          \n",
       "c: 2/═════\n",
       "          "
      ]
     },
     "execution_count": 5,
     "metadata": {},
     "output_type": "execute_result"
    }
   ],
   "source": [
    "circ = QuantumCircuit(2,2) # declaro un circuito cuántico con 2 qubits y 2 bits clásicos\n",
    "circ.h(0) # aplico la compuerta Hadamard al primer qubit\n",
    "circ.draw() # dibujo el circuito\n",
    "# draw() es un método que permite visualizar el circuito cuántico de forma gráfica."
   ]
  },
  {
   "cell_type": "markdown",
   "metadata": {},
   "source": [
    "Hasta ahora no he hecho nada más que declarar el circuito. \n",
    "No hemos ejecutado nada. "
   ]
  },
  {
   "cell_type": "code",
   "execution_count": 6,
   "metadata": {},
   "outputs": [],
   "source": [
    "# Importo las liberías necesarias de Qiskit: Aer, transpile y plot_histogram\n",
    "# Transpile es una función que optimiza el circuito para que se ejecute en un dispositivo cuántico específico.\n",
    "# Plot_histogram es una función que permite visualizar los resultados de la simulación con mejor detalle que draw().\n",
    "from qiskit import transpile\n",
    "from qiskit.visualization import plot_histogram"
   ]
  },
  {
   "cell_type": "markdown",
   "metadata": {},
   "source": [
    "Comienzo a generar cambios en el vector de cada uno de los qubits. "
   ]
  },
  {
   "cell_type": "code",
   "execution_count": 7,
   "metadata": {},
   "outputs": [
    {
     "data": {
      "text/html": [
       "<pre style=\"word-wrap: normal;white-space: pre;background: #fff0;line-height: 1.1;font-family: &quot;Courier New&quot;,Courier,monospace\">     ┌───┐     ┌─┐   \n",
       "q_0: ┤ H ├─────┤M├───\n",
       "     ├───┤┌───┐└╥┘┌─┐\n",
       "q_1: ┤ X ├┤ Z ├─╫─┤M├\n",
       "     └───┘└───┘ ║ └╥┘\n",
       "c: 2/═══════════╩══╩═\n",
       "                0  1 </pre>"
      ],
      "text/plain": [
       "     ┌───┐     ┌─┐   \n",
       "q_0: ┤ H ├─────┤M├───\n",
       "     ├───┤┌───┐└╥┘┌─┐\n",
       "q_1: ┤ X ├┤ Z ├─╫─┤M├\n",
       "     └───┘└───┘ ║ └╥┘\n",
       "c: 2/═══════════╩══╩═\n",
       "                0  1 "
      ]
     },
     "execution_count": 7,
     "metadata": {},
     "output_type": "execute_result"
    }
   ],
   "source": [
    "circ = QuantumCircuit(2,2) # declaro un circuito cuántico con 2 qubits y 2 bits clásicos\n",
    "circ.h(0) # aplico la compuerta Hadamard al primer qubit\n",
    "circ.x(1) # aplico la compuerta X al segundo qubit\n",
    "circ.z(1) # aplico la compuerta Z al segundo qubit\n",
    "# la puerta Z es una compuerta de fase que cambia el signo del estado |1>, signo se refiere a la fase del estado cuántico, \n",
    "# el signo será negativo si estando en superposición, el qubit se encuentra alineado con el eje x negativo.\n",
    "circ.measure((0,1),(0,1)) # Significa que los qubits 0 y 1 se miden y los resultados se almacenan en los bits clásicos 0 y 1.   \n",
    "# El método measure() es una operación que mide el estado de los qubits y almacena el resultado en los bits clásicos.\n",
    "\n",
    "circ.draw()"
   ]
  },
  {
   "cell_type": "code",
   "execution_count": 12,
   "metadata": {},
   "outputs": [
    {
     "name": "stdout",
     "output_type": "stream",
     "text": [
      "Estado y veces que aparece : {'11': 513, '10': 511}\n"
     ]
    },
    {
     "data": {
      "image/png": "[encoded data removed]",
      "text/plain": [
       "<Figure size 640x480 with 1 Axes>"
      ]
     },
     "execution_count": 12,
     "metadata": {},
     "output_type": "execute_result"
    }
   ],
   "source": [
    "backend= Aer.get_backend(\"qasm_simulator\") # Obtengo el backend del simulador cuántico\n",
    "# El backend es el dispositivo cuántico o simulador donde se ejecutará el circuito.\n",
    "job= backend.run(transpile (circ,backend)) # Transpile optimiza el circuito para que se ejecute en el backend especificado.\n",
    "# job es el objeto que representa la ejecución del circuito en el backend.\n",
    "result= job.result() # Obtengo el resultado de la ejecución del circuito, las medidas de los estados medidos tras la simulación.\n",
    "count = result.get_counts(circ)# get_counts() devuelve un diccionario con los resultados de las medidas.\n",
    "print(\"Estado y veces que aparece :\", count)\n",
    "plot_histogram(count)\n"
   ]
  }
 ],
 "metadata": {
  "kernelspec": {
   "display_name": "CondaCodingQiskitEnvironment",
   "language": "python",
   "name": "python3"
  },
  "language_info": {
   "codemirror_mode": {
    "name": "ipython",
    "version": 3
   },
   "file_extension": ".py",
   "mimetype": "text/x-python",
   "name": "python",
   "nbconvert_exporter": "python",
   "pygments_lexer": "ipython3",
   "version": "3.13.2"
  }
 },
 "nbformat": 4,
 "nbformat_minor": 2
}
