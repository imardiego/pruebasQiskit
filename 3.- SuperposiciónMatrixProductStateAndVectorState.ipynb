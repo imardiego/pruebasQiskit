{
 "cells": [
  {
   "cell_type": "markdown",
   "id": "ece09a50",
   "metadata": {},
   "source": [
    "## Superposición con matrix product state"
   ]
  },
  {
   "cell_type": "code",
   "execution_count": null,
   "id": "03ed0ceb",
   "metadata": {},
   "outputs": [
    {
     "data": {
      "text/plain": [
       "{'11': 529, '00': 495}"
      ]
     },
     "execution_count": 1,
     "metadata": {},
     "output_type": "execute_result"
    }
   ],
   "source": [
    "\n",
    "# Import Qiskit\n",
    "from qiskit import QuantumCircuit, transpile\n",
    "from qiskit_aer import AerSimulator\n",
    "\n",
    "# Construct quantum circuit\n",
    "circ = QuantumCircuit(2, 2)\n",
    "circ.h(0)\n",
    "circ.cx(0, 1)\n",
    "circ.measure([0,1], [0,1]) # el qubit 0 y 1 son medidos en los bits 0 y 1\n",
    "\n",
    "# Select the AerSimulator from the Aer provider\n",
    "simulator = AerSimulator(method='matrix_product_state')\n",
    "# AerSimulator es un simulador de Qiskit Aer que utiliza el método de estado del producto de matrices para simular circuitos cuánticos.\n",
    "# el matrix_product_state es un método eficiente para simular circuitos cuánticos que tienen una estructura de estado de producto, \n",
    "# lo que significa que el estado del sistema cuántico se puede expresar como un producto de estados individuales de qubits.\n",
    "# O lo que es lo mismo un producto de matrices que representan las operaciones cuánticas en el circuito.\n",
    "\n",
    "# Run and get counts, using the matrix_product_state method\n",
    "tcirc = transpile(circ, simulator)\n",
    "# transpile es una función de Qiskit que se utiliza para optimizar y transformar circuitos cuánticos para su ejecución en diferentes backends\n",
    "# en este caso, transpile toma el circuito circ y lo prepara para su ejecución en el simulador AerSimulator.\n",
    "# Esto puede incluir la reordenación de puertas, la eliminación de puertas redundantes y la\n",
    "result = simulator.run(tcirc).result()\n",
    "# obtene el resultado de la ejecución del circuito en el simulador.\n",
    "# el metodo get_counts(0) devuelve un diccionario que contiene las cuentas de los resultados de la medición del circuito.\n",
    "counts = result.get_counts(0)\n",
    "\n",
    "counts"
   ]
  },
  {
   "cell_type": "code",
   "execution_count": null,
   "id": "117947ca",
   "metadata": {},
   "outputs": [
    {
     "data": {
      "text/plain": [
       "{'counts': {'0x3': 480, '0x0': 544},\n",
       " 'my_sv': Statevector([0.70710678+0.j, 0.        +0.j, 0.        +0.j,\n",
       "              0.70710678+0.j],\n",
       "             dims=(2, 2)),\n",
       " 'my_mps': ([(array([[1.-0.j, 0.-0.j]]), array([[0.-0.j, 1.-0.j]])),\n",
       "   (array([[1.-0.j],\n",
       "           [0.-0.j]]),\n",
       "    array([[0.-0.j],\n",
       "           [1.-0.j]]))],\n",
       "  [array([0.70710678, 0.70710678])])}"
      ]
     },
     "execution_count": 2,
     "metadata": {},
     "output_type": "execute_result"
    }
   ],
   "source": [
    "# Otro ejemplo de circuito cuántico con estado de producto de matrices\n",
    "# Se muestra como guardar el estado del vector cuántico y el estado del producto de matrices en un punto específico del circuito.\n",
    "circ = QuantumCircuit(2, 2)\n",
    "circ.h(0)\n",
    "circ.cx(0, 1)\n",
    "\n",
    "# Define a snapshot that shows the current state vector\n",
    "# Save_statevector salva el estado del vector cuántico en un punto específico del circuito, y lo llamamos 'my_sv'\n",
    "# Su estructura es un vector de amplitudes complejas que representan la superposición de estados cuánticos.\n",
    "circ.save_statevector(label='my_sv')\n",
    "# Save_matrix_product_state guarda el estado del producto de matrices en un punto específico del circuito, ylo llamamos 'my_mps'\n",
    "# Su estructura es una representación eficiente del estado cuántico que se utiliza para simular circuitos\n",
    "circ.save_matrix_product_state(label='my_mps')\n",
    "circ.measure([0,1], [0,1])\n",
    "\n",
    "# Execute and get saved data\n",
    "tcirc = transpile(circ, simulator)\n",
    "result = simulator.run(tcirc).result()\n",
    "data = result.data(0)\n",
    "# result.data(0) devuelve un diccionario que contiene los datos guardados del circuito, incluyendo el estado del vector cuántico y \n",
    "# el estado del producto de matrices.\n",
    "#print the result data\n",
    "data"
   ]
  }
 ],
 "metadata": {
  "kernelspec": {
   "display_name": "CondaCodingQiskitEnvironment",
   "language": "python",
   "name": "python3"
  },
  "language_info": {
   "codemirror_mode": {
    "name": "ipython",
    "version": 3
   },
   "file_extension": ".py",
   "mimetype": "text/x-python",
   "name": "python",
   "nbconvert_exporter": "python",
   "pygments_lexer": "ipython3",
   "version": "3.13.2"
  }
 },
 "nbformat": 4,
 "nbformat_minor": 5
}
